{
 "cells": [
  {
   "cell_type": "code",
   "execution_count": 1,
   "id": "protected-mystery",
   "metadata": {},
   "outputs": [],
   "source": [
    "import torch\n",
    "import torch.nn as nn\n",
    "import numpy as np\n",
    "from tqdm.auto import tqdm\n",
    "from torch.utils.data import DataLoader, Dataset, TensorDataset\n",
    "import torchvision.datasets as ds\n",
    "import matplotlib.pyplot as plt"
   ]
  },
  {
   "cell_type": "markdown",
   "id": "accessory-circumstances",
   "metadata": {},
   "source": [
    "## Load the data (CIFAR-10)"
   ]
  },
  {
   "cell_type": "markdown",
   "id": "purple-canyon",
   "metadata": {},
   "source": [
    "new CustomTensorDataset for transforms"
   ]
  },
  {
   "cell_type": "code",
   "execution_count": 2,
   "id": "found-fleet",
   "metadata": {},
   "outputs": [],
   "source": [
    "class CustomTensorDataset(Dataset):\n",
    "    \"\"\"TensorDataset with support of transforms.\n",
    "    \"\"\"\n",
    "    def __init__(self, tensors, transform=None):\n",
    "        assert all(tensors[0].size(0) == tensor.size(0) for tensor in tensors)\n",
    "        self.tensors = tensors\n",
    "        self.transform = transform\n",
    "\n",
    "    def __getitem__(self, index):\n",
    "        x = self.tensors[0][index]\n",
    "\n",
    "        if self.transform:\n",
    "            x = self.transform(x)\n",
    "\n",
    "        y = self.tensors[1][index]\n",
    "\n",
    "        return x, y\n",
    "\n",
    "    def __len__(self):\n",
    "        return self.tensors[0].size(0)"
   ]
  },
  {
   "cell_type": "code",
   "execution_count": 3,
   "id": "several-arrival",
   "metadata": {},
   "outputs": [
    {
     "name": "stdout",
     "output_type": "stream",
     "text": [
      "Files already downloaded and verified\n",
      "Files already downloaded and verified\n"
     ]
    }
   ],
   "source": [
    "def load_cifar(datadir='./data_cache'): # will download ~400MB of data into this dir. Change the dir if neccesary. If using paperspace, you can make this /storage\n",
    "    train_ds = ds.CIFAR10(root=datadir, train=True,\n",
    "                           download=True, transform=None)\n",
    "    test_ds = ds.CIFAR10(root=datadir, train=False,\n",
    "                          download=True, transform=None)\n",
    "\n",
    "    def to_xy(dataset):\n",
    "        X = torch.Tensor(np.transpose(dataset.data, (0, 3, 1, 2))).float() / 255.0  # [0, 1]\n",
    "        Y = torch.Tensor(np.array(dataset.targets)).long()\n",
    "        return X, Y\n",
    "\n",
    "    X_tr, Y_tr = to_xy(train_ds)\n",
    "    X_te, Y_te = to_xy(test_ds)\n",
    "    return X_tr, Y_tr, X_te, Y_te\n",
    "\n",
    "def make_loader(dataset, batch_size=128):\n",
    "    return torch.utils.data.DataLoader(dataset, batch_size=batch_size,\n",
    "            shuffle=True, num_workers=4, pin_memory=True)\n",
    "\n",
    "X_tr, Y_tr, X_te, Y_te = load_cifar()"
   ]
  },
  {
   "cell_type": "markdown",
   "id": "whole-photography",
   "metadata": {},
   "source": [
    "## Training helper functions"
   ]
  },
  {
   "cell_type": "code",
   "execution_count": 4,
   "id": "compact-rolling",
   "metadata": {},
   "outputs": [],
   "source": [
    "def train_epoch(model, train_dl : DataLoader, opt, k = 50):\n",
    "    ''' Trains model for one epoch on the provided dataloader, with optimizer opt. Logs stats every k batches.'''\n",
    "    loss_func = nn.CrossEntropyLoss()\n",
    "    model.train()\n",
    "    model.cuda()\n",
    "\n",
    "    netLoss = 0.0\n",
    "    nCorrect = 0\n",
    "    nTotal = 0\n",
    "    for i, (xB, yB) in enumerate(tqdm(train_dl)):\n",
    "        opt.zero_grad()\n",
    "        xB, yB = xB.cuda(), yB.cuda()\n",
    "        outputs = model(xB)\n",
    "        loss = loss_func(outputs, yB)\n",
    "        loss.backward()\n",
    "        opt.step()\n",
    "        netLoss += loss.item() * len(xB)\n",
    "        with torch.no_grad():\n",
    "            _, preds = torch.max(outputs, dim=1)\n",
    "            nCorrect += (preds == yB).float().sum()\n",
    "            nTotal += preds.size(0)\n",
    "        \n",
    "        if (i+1) % k == 0:\n",
    "            train_acc = nCorrect/nTotal\n",
    "            avg_loss = netLoss/nTotal\n",
    "            # print(f'\\t [Batch {i+1} / {len(train_dl)}] Train Loss: {avg_loss:.3f} \\t Train Acc: {train_acc:.3f}')\n",
    "  \n",
    "    train_acc = nCorrect/nTotal\n",
    "    avg_loss = netLoss/nTotal\n",
    "    return avg_loss, train_acc\n",
    "\n",
    "\n",
    "def evaluate(model, test_dl, loss_func=nn.CrossEntropyLoss().cuda()):\n",
    "    ''' Returns loss, acc'''\n",
    "    model.eval()\n",
    "    model.cuda()\n",
    "    nCorrect = 0.0\n",
    "    nTotal = 0\n",
    "    net_loss = 0.0\n",
    "    with torch.no_grad():\n",
    "        for (xb, yb) in test_dl:\n",
    "            xb, yb = xb.cuda(), yb.cuda()\n",
    "            outputs = model(xb)\n",
    "            loss = len(xb) * loss_func(outputs, yb)\n",
    "            _, preds = torch.max(outputs, dim=1)\n",
    "            nCorrect += (preds == yb).float().sum()\n",
    "            net_loss += loss\n",
    "            nTotal += preds.size(0)\n",
    "\n",
    "    acc = nCorrect.cpu().item() / float(nTotal)\n",
    "    loss = net_loss.cpu().item() / float(nTotal)\n",
    "    return loss, acc"
   ]
  },
  {
   "cell_type": "code",
   "execution_count": 5,
   "id": "improved-nelson",
   "metadata": {},
   "outputs": [],
   "source": [
    "## Define model"
   ]
  },
  {
   "cell_type": "code",
   "execution_count": 6,
   "id": "vital-economy",
   "metadata": {},
   "outputs": [],
   "source": [
    "## 5-Layer CNN for CIFAR\n",
    "## This is the Myrtle5 network by David Page (https://myrtle.ai/learn/how-to-train-your-resnet-4-architecture/)\n",
    "\n",
    "class Flatten(nn.Module):\n",
    "    def forward(self, x): return x.view(x.size(0), x.size(1))\n",
    "\n",
    "def make_cnn(c=64, num_classes=10):\n",
    "    ''' Returns a 5-layer CNN with width parameter c. '''\n",
    "    return nn.Sequential(\n",
    "        # Layer 0\n",
    "        nn.Conv2d(3, c, kernel_size=3, stride=1,\n",
    "                  padding=1, bias=True),\n",
    "        nn.BatchNorm2d(c),\n",
    "        nn.ReLU(),\n",
    "\n",
    "        # Layer 1\n",
    "        nn.Conv2d(c, c*2, kernel_size=3,\n",
    "                  stride=1, padding=1, bias=True),\n",
    "        nn.BatchNorm2d(c*2),\n",
    "        nn.ReLU(),\n",
    "        nn.MaxPool2d(2),\n",
    "\n",
    "        # Layer 2\n",
    "        nn.Conv2d(c*2, c*4, kernel_size=3,\n",
    "                  stride=1, padding=1, bias=True),\n",
    "        nn.BatchNorm2d(c*4),\n",
    "        nn.ReLU(),\n",
    "        nn.MaxPool2d(2),\n",
    "\n",
    "        # Layer 3\n",
    "        nn.Conv2d(c*4, c*8, kernel_size=3,\n",
    "                  stride=1, padding=1, bias=True),\n",
    "        nn.BatchNorm2d(c*8),\n",
    "        nn.ReLU(),\n",
    "        nn.MaxPool2d(2),\n",
    "\n",
    "        # Layer 4\n",
    "        nn.MaxPool2d(4),\n",
    "        Flatten(),\n",
    "        nn.Linear(c*8, num_classes, bias=True)\n",
    "    )"
   ]
  },
  {
   "cell_type": "code",
   "execution_count": 7,
   "id": "smaller-episode",
   "metadata": {},
   "outputs": [],
   "source": [
    "## Train\n",
    "def train(model, train_dl, test_dl, epochs):\n",
    "    opt = torch.optim.SGD(model.parameters(), lr=0.1)\n",
    "    for i in range(epochs):\n",
    "        train_loss, train_acc = train_epoch(model, train_dl, opt)\n",
    "        test_loss, test_acc = evaluate(model, test_dl)\n",
    "\n",
    "        print(f'Epoch {i}:\\t Train Loss: {train_loss:.3f} \\t Train Acc: {train_acc:.3f}\\t Test Acc: {test_acc:.3f}')\n",
    "    return train_loss, train_acc, test_loss, test_acc"
   ]
  },
  {
   "cell_type": "markdown",
   "id": "several-seeking",
   "metadata": {},
   "source": [
    "## Problem 2"
   ]
  },
  {
   "cell_type": "code",
   "execution_count": 8,
   "id": "occasional-arctic",
   "metadata": {},
   "outputs": [],
   "source": [
    "def noisify_label(Y,p):\n",
    "    Y_noise = torch.zeros_like(Y)\n",
    "    for i,y in enumerate(Y):\n",
    "        r=np.random.uniform()\n",
    "        if r <= p:\n",
    "            Y_noise[i] = np.random.randint(0, 10)\n",
    "        else:\n",
    "            Y_noise[i] = y\n",
    "\n",
    "    return Y_noise"
   ]
  },
  {
   "cell_type": "code",
   "execution_count": 9,
   "id": "fixed-entertainment",
   "metadata": {},
   "outputs": [],
   "source": [
    "ps = [0., .5, 1.]\n",
    "cs = [4, 64]\n",
    "epochs = [50, 20, 50, 40, 50, 100]\n",
    "# epochs = [1,1,1,1,1,1]\n",
    "\n",
    "train_accs = []\n",
    "test_accs = []\n",
    "\n",
    "skip_training = True\n",
    "\n",
    "if not skip_training:\n",
    "    run_nr=0\n",
    "    for p in ps:\n",
    "        for c in cs:\n",
    "            print(f\"----- p={p}, c={c} -----\"\"\")\n",
    "            Y_tr_noise = noisify_label(Y_tr,p)\n",
    "            Y_te_noise = noisify_label(Y_te,p)\n",
    "\n",
    "            train_dl = make_loader(CustomTensorDataset([X_tr, Y_tr_noise]))\n",
    "            test_dl = make_loader(CustomTensorDataset([X_te, Y_te_noise]))\n",
    "\n",
    "            model = make_cnn(c=c)\n",
    "\n",
    "            train_loss, train_acc, test_loss, test_acc = train(model=model, train_dl=train_dl, test_dl=test_dl, epochs=epochs[run_nr])\n",
    "            run_nr+=1\n",
    "            train_accs.append(float(train_acc))\n",
    "            test_accs.append(float(test_acc))\n",
    "\n"
   ]
  },
  {
   "cell_type": "markdown",
   "id": "connected-telescope",
   "metadata": {},
   "source": [
    "The training kept crashing for me in jupyter lab, so I wrote a script to run directly from command line. results from that are copied and visualized below. "
   ]
  },
  {
   "cell_type": "code",
   "execution_count": 10,
   "id": "domestic-defeat",
   "metadata": {},
   "outputs": [
    {
     "data": {
      "text/plain": [
       "<matplotlib.legend.Legend at 0x7fd0dd7781d0>"
      ]
     },
     "execution_count": 10,
     "metadata": {},
     "output_type": "execute_result"
    },
    {
     "data": {
      "image/png": "[encoded data removed]",
      "text/plain": [
       "<Figure size 432x288 with 1 Axes>"
      ]
     },
     "metadata": {
      "needs_background": "light"
     },
     "output_type": "display_data"
    }
   ],
   "source": [
    "train_accuracies = [0.7333599925041199, 1.0, 0.38023999333381653, 1.0, 0.15553998947143555, 1.0]\n",
    "train_losses=  [0.7573555888557434, 0.002216150756329298, 1.918847382736206, 0.002550680074095726, 2.2551784664154053, 0.0010338421503081918]\n",
    "test_accuracies= [0.6523, 0.8598, 0.3089, 0.3342, 0.0999, 0.0956]\n",
    "test_losses=  [1.05062734375, 0.548130126953125, 2.1132705078125, 3.859871484375, 2.351222265625, 5.58869453125]\n",
    "\n",
    "\n",
    "plt.figure()\n",
    "plt.plot(ps, np.array(train_accuracies)[[0,2,4]], label=\"train, c=4\")\n",
    "plt.plot(ps, np.array(test_accuracies)[[0,2,4]], label=\"test, c=4\")\n",
    "plt.plot(ps, np.array(train_accuracies)[[1,3,5]], label=\"train, c=64\")\n",
    "plt.plot(ps, np.array(test_accuracies)[[1,3,5]], label=\"test, c=64\")\n",
    "plt.xlabel(\"p\")\n",
    "plt.ylabel(\"accuracy\")\n",
    "plt.legend()"
   ]
  },
  {
   "cell_type": "code",
   "execution_count": null,
   "id": "bearing-richards",
   "metadata": {},
   "outputs": [],
   "source": []
  },
  {
   "cell_type": "markdown",
   "id": "fantastic-couple",
   "metadata": {},
   "source": [
    "and with errors..."
   ]
  },
  {
   "cell_type": "code",
   "execution_count": 11,
   "id": "ahead-penalty",
   "metadata": {},
   "outputs": [
    {
     "data": {
      "text/plain": [
       "<matplotlib.legend.Legend at 0x7fd0d562df98>"
      ]
     },
     "execution_count": 11,
     "metadata": {},
     "output_type": "execute_result"
    },
    {
     "data": {
      "image/png": "[encoded data removed]",
      "text/plain": [
       "<Figure size 432x288 with 1 Axes>"
      ]
     },
     "metadata": {
      "needs_background": "light"
     },
     "output_type": "display_data"
    }
   ],
   "source": [
    "plt.figure()\n",
    "plt.plot(ps, 1- np.array(train_accuracies)[[0,2,4]], label=\"train, c=4\")\n",
    "plt.plot(ps, 1- np.array(test_accuracies)[[0,2,4]], label=\"test, c=4\")\n",
    "plt.plot(ps, 1- np.array(train_accuracies)[[1,3,5]], label=\"train, c=64\")\n",
    "plt.plot(ps, 1- np.array(test_accuracies)[[1,3,5]], label=\"test, c=64\")\n",
    "plt.xlabel(\"p\")\n",
    "plt.ylabel(\"error\")\n",
    "plt.legend()"
   ]
  },
  {
   "cell_type": "markdown",
   "id": "mounted-reputation",
   "metadata": {},
   "source": [
    "observation: p=0,c=4: training acc plateaus at around 73%"
   ]
  },
  {
   "cell_type": "markdown",
   "id": "built-accounting",
   "metadata": {},
   "source": [
    "#### Discussion\n",
    "The smaller model cannot fully fit the training data. For c=4, the difference between train and test accuracy is roughly constant as a function of p. "
   ]
  },
  {
   "cell_type": "markdown",
   "id": "steady-payday",
   "metadata": {},
   "source": [
    "The larger model (c=64) has enough parameters to fully fit the training dataset for all values of p, achieving ~100% accuracy in all settings. For clean data (p=0), this means that the larger model performs much better on the test data, as it correctly learns more of the underlying 'true' features of the data than the model with c=4. For p=0.5, there may still be some 'true' features in the training data that the larger model can pick up, which the smaller model cannot learn due to lack in capacity - hence a slightly higher test accuracy for c=64. For p=1., there are no 'true' features left that correlate with any of the classes, as all labels are random, and both models achieve the same test accuracy. "
   ]
  }
 ],
 "metadata": {
  "kernelspec": {
   "display_name": "Python 3",
   "language": "python",
   "name": "python3"
  },
  "language_info": {
   "codemirror_mode": {
    "name": "ipython",
    "version": 3
   },
   "file_extension": ".py",
   "mimetype": "text/x-python",
   "name": "python",
   "nbconvert_exporter": "python",
   "pygments_lexer": "ipython3",
   "version": "3.6.9"
  }
 },
 "nbformat": 4,
 "nbformat_minor": 5
}
