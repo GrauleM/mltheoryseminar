{
 "cells": [
  {
   "cell_type": "code",
   "execution_count": 1,
   "id": "increasing-holocaust",
   "metadata": {},
   "outputs": [
    {
     "name": "stdout",
     "output_type": "stream",
     "text": [
      "Requirement already satisfied: tqdm in /home/moritz/venvs/mltheory/lib/python3.6/site-packages (4.56.0)\n"
     ]
    }
   ],
   "source": [
    "# install: tqdm (progress bars)\n",
    "!pip install tqdm\n",
    "\n",
    "import torch\n",
    "import torch.nn as nn\n",
    "import numpy as np\n",
    "from tqdm.auto import tqdm\n",
    "from torch.utils.data import DataLoader, Dataset, TensorDataset\n",
    "import torchvision.datasets as ds\n",
    "import torchvision.transforms as transforms\n",
    "\n",
    "import matplotlib.pyplot as plt"
   ]
  },
  {
   "cell_type": "markdown",
   "id": "hydraulic-angle",
   "metadata": {},
   "source": [
    "## Load the data (CIFAR-10)"
   ]
  },
  {
   "cell_type": "markdown",
   "id": "later-payday",
   "metadata": {},
   "source": [
    "new CustomTensorDataset for transforms"
   ]
  },
  {
   "cell_type": "code",
   "execution_count": 2,
   "id": "economic-pixel",
   "metadata": {},
   "outputs": [],
   "source": [
    "class CustomTensorDataset(Dataset):\n",
    "    \"\"\"TensorDataset with support of transforms.\n",
    "    \"\"\"\n",
    "    def __init__(self, tensors, transform=None):\n",
    "        assert all(tensors[0].size(0) == tensor.size(0) for tensor in tensors)\n",
    "        self.tensors = tensors\n",
    "        self.transform = transform\n",
    "\n",
    "    def __getitem__(self, index):\n",
    "        x = self.tensors[0][index]\n",
    "\n",
    "        if self.transform:\n",
    "            x = self.transform(x)\n",
    "\n",
    "        y = self.tensors[1][index]\n",
    "\n",
    "        return x, y\n",
    "\n",
    "    def __len__(self):\n",
    "        return self.tensors[0].size(0)"
   ]
  },
  {
   "cell_type": "code",
   "execution_count": 3,
   "id": "posted-promotion",
   "metadata": {},
   "outputs": [
    {
     "name": "stdout",
     "output_type": "stream",
     "text": [
      "Files already downloaded and verified\n",
      "Files already downloaded and verified\n"
     ]
    }
   ],
   "source": [
    "def load_cifar(datadir='./data_cache'): # will download ~400MB of data into this dir. Change the dir if neccesary. If using paperspace, you can make this /storage\n",
    "    train_ds = ds.CIFAR10(root=datadir, train=True,\n",
    "                           download=True, transform=None)\n",
    "    test_ds = ds.CIFAR10(root=datadir, train=False,\n",
    "                          download=True, transform=None)\n",
    "\n",
    "    def to_xy(dataset):\n",
    "        X = torch.Tensor(np.transpose(dataset.data, (0, 3, 1, 2))).float() / 255.0  # [0, 1]\n",
    "        Y = torch.Tensor(np.array(dataset.targets)).long()\n",
    "        return X, Y\n",
    "\n",
    "    X_tr, Y_tr = to_xy(train_ds)\n",
    "    X_te, Y_te = to_xy(test_ds)\n",
    "    return X_tr, Y_tr, X_te, Y_te\n",
    "\n",
    "def make_loader(dataset, batch_size=128):\n",
    "    return torch.utils.data.DataLoader(dataset, batch_size=batch_size,\n",
    "            shuffle=True, num_workers=4, pin_memory=True)\n",
    "\n",
    "X_tr, Y_tr, X_te, Y_te = load_cifar()\n",
    "\n",
    "transform_noaug = transforms.Compose(\n",
    "    [transforms.ToPILImage(),\n",
    "     transforms.ToTensor()])\n",
    "\n",
    "train_dl = make_loader(CustomTensorDataset([X_tr, Y_tr],transform=transform_noaug))\n",
    "test_dl = make_loader(CustomTensorDataset([X_te, Y_te],transform=transform_noaug))"
   ]
  },
  {
   "cell_type": "markdown",
   "id": "allied-grounds",
   "metadata": {},
   "source": [
    "## Training helper functions"
   ]
  },
  {
   "cell_type": "code",
   "execution_count": 4,
   "id": "greenhouse-second",
   "metadata": {},
   "outputs": [],
   "source": [
    "def train_epoch(model, train_dl : DataLoader, opt, k = 50):\n",
    "    ''' Trains model for one epoch on the provided dataloader, with optimizer opt. Logs stats every k batches.'''\n",
    "    loss_func = nn.CrossEntropyLoss()\n",
    "    model.train()\n",
    "    model.cuda()\n",
    "\n",
    "    netLoss = 0.0\n",
    "    nCorrect = 0\n",
    "    nTotal = 0\n",
    "    for i, (xB, yB) in enumerate(tqdm(train_dl)):\n",
    "        opt.zero_grad()\n",
    "        xB, yB = xB.cuda(), yB.cuda()\n",
    "        outputs = model(xB)\n",
    "        loss = loss_func(outputs, yB)\n",
    "        loss.backward()\n",
    "        opt.step()\n",
    "        netLoss += loss.item() * len(xB)\n",
    "        with torch.no_grad():\n",
    "            _, preds = torch.max(outputs, dim=1)\n",
    "            nCorrect += (preds == yB).float().sum()\n",
    "            nTotal += preds.size(0)\n",
    "        \n",
    "        if (i+1) % k == 0:\n",
    "            train_acc = nCorrect/nTotal\n",
    "            avg_loss = netLoss/nTotal\n",
    "            print(f'\\t [Batch {i+1} / {len(train_dl)}] Train Loss: {avg_loss:.3f} \\t Train Acc: {train_acc:.3f}')\n",
    "  \n",
    "    train_acc = nCorrect/nTotal\n",
    "    avg_loss = netLoss/nTotal\n",
    "    return avg_loss, train_acc\n",
    "\n",
    "\n",
    "def evaluate(model, test_dl, loss_func=nn.CrossEntropyLoss().cuda()):\n",
    "    ''' Returns loss, acc'''\n",
    "    model.eval()\n",
    "    model.cuda()\n",
    "    nCorrect = 0.0\n",
    "    nTotal = 0\n",
    "    net_loss = 0.0\n",
    "    with torch.no_grad():\n",
    "        for (xb, yb) in test_dl:\n",
    "            xb, yb = xb.cuda(), yb.cuda()\n",
    "            outputs = model(xb)\n",
    "            loss = len(xb) * loss_func(outputs, yb)\n",
    "            _, preds = torch.max(outputs, dim=1)\n",
    "            nCorrect += (preds == yb).float().sum()\n",
    "            net_loss += loss\n",
    "            nTotal += preds.size(0)\n",
    "\n",
    "    acc = nCorrect.cpu().item() / float(nTotal)\n",
    "    loss = net_loss.cpu().item() / float(nTotal)\n",
    "    return loss, acc"
   ]
  },
  {
   "cell_type": "code",
   "execution_count": 5,
   "id": "damaged-canberra",
   "metadata": {},
   "outputs": [],
   "source": [
    "## Define model"
   ]
  },
  {
   "cell_type": "code",
   "execution_count": 6,
   "id": "spatial-experience",
   "metadata": {},
   "outputs": [],
   "source": [
    "## 5-Layer CNN for CIFAR\n",
    "## This is the Myrtle5 network by David Page (https://myrtle.ai/learn/how-to-train-your-resnet-4-architecture/)\n",
    "\n",
    "class Flatten(nn.Module):\n",
    "    def forward(self, x): return x.view(x.size(0), x.size(1))\n",
    "\n",
    "def make_cnn(c=64, num_classes=10):\n",
    "    ''' Returns a 5-layer CNN with width parameter c. '''\n",
    "    return nn.Sequential(\n",
    "        # Layer 0\n",
    "        nn.Conv2d(3, c, kernel_size=3, stride=1,\n",
    "                  padding=1, bias=True),\n",
    "        nn.BatchNorm2d(c),\n",
    "        nn.ReLU(),\n",
    "\n",
    "        # Layer 1\n",
    "        nn.Conv2d(c, c*2, kernel_size=3,\n",
    "                  stride=1, padding=1, bias=True),\n",
    "        nn.BatchNorm2d(c*2),\n",
    "        nn.ReLU(),\n",
    "        nn.MaxPool2d(2),\n",
    "\n",
    "        # Layer 2\n",
    "        nn.Conv2d(c*2, c*4, kernel_size=3,\n",
    "                  stride=1, padding=1, bias=True),\n",
    "        nn.BatchNorm2d(c*4),\n",
    "        nn.ReLU(),\n",
    "        nn.MaxPool2d(2),\n",
    "\n",
    "        # Layer 3\n",
    "        nn.Conv2d(c*4, c*8, kernel_size=3,\n",
    "                  stride=1, padding=1, bias=True),\n",
    "        nn.BatchNorm2d(c*8),\n",
    "        nn.ReLU(),\n",
    "        nn.MaxPool2d(2),\n",
    "\n",
    "        # Layer 4\n",
    "        nn.MaxPool2d(4),\n",
    "        Flatten(),\n",
    "        nn.Linear(c*8, num_classes, bias=True)\n",
    "    )"
   ]
  },
  {
   "cell_type": "code",
   "execution_count": 7,
   "id": "comic-charm",
   "metadata": {},
   "outputs": [],
   "source": [
    "## Train\n",
    "def train(model, train_dl, test_dl, epochs):\n",
    "    opt = torch.optim.SGD(model.parameters(), lr=0.1)\n",
    "    for i in range(epochs):\n",
    "        print(f'Starting Epoch {i}')\n",
    "        train_loss, train_acc = train_epoch(model, train_dl, opt)\n",
    "        test_loss, test_acc = evaluate(model, test_dl)\n",
    "\n",
    "        print(f'Epoch {i}:\\t Train Loss: {train_loss:.3f} \\t Train Acc: {train_acc:.3f}\\t Test Acc: {test_acc:.3f}')\n",
    "    return train_loss, train_acc, test_loss, test_acc"
   ]
  },
  {
   "cell_type": "code",
   "execution_count": 8,
   "id": "turned-louisiana",
   "metadata": {},
   "outputs": [
    {
     "name": "stdout",
     "output_type": "stream",
     "text": [
      "Starting Epoch 0\n"
     ]
    },
    {
     "data": {
      "application/vnd.jupyter.widget-view+json": {
       "model_id": "d9de90ad76cf41619da641acbbd87b28",
       "version_major": 2,
       "version_minor": 0
      },
      "text/plain": [
       "  0%|          | 0/391 [00:00<?, ?it/s]"
      ]
     },
     "metadata": {},
     "output_type": "display_data"
    },
    {
     "name": "stdout",
     "output_type": "stream",
     "text": [
      "\t [Batch 50 / 391] Train Loss: 7.842 \t Train Acc: 0.141\n",
      "\t [Batch 100 / 391] Train Loss: 5.199 \t Train Acc: 0.168\n",
      "\t [Batch 150 / 391] Train Loss: 4.169 \t Train Acc: 0.194\n",
      "\t [Batch 200 / 391] Train Loss: 3.606 \t Train Acc: 0.222\n",
      "\t [Batch 250 / 391] Train Loss: 3.256 \t Train Acc: 0.243\n",
      "\t [Batch 300 / 391] Train Loss: 3.014 \t Train Acc: 0.259\n",
      "\t [Batch 350 / 391] Train Loss: 2.822 \t Train Acc: 0.278\n",
      "Epoch 0:\t Train Loss: 2.697 \t Train Acc: 0.291\t Test Acc: 0.317\n",
      "Starting Epoch 1\n"
     ]
    },
    {
     "data": {
      "application/vnd.jupyter.widget-view+json": {
       "model_id": "d8bdd8209c504ef99caaecfcf22ddd88",
       "version_major": 2,
       "version_minor": 0
      },
      "text/plain": [
       "  0%|          | 0/391 [00:00<?, ?it/s]"
      ]
     },
     "metadata": {},
     "output_type": "display_data"
    },
    {
     "name": "stdout",
     "output_type": "stream",
     "text": [
      "\t [Batch 50 / 391] Train Loss: 1.573 \t Train Acc: 0.423\n",
      "\t [Batch 100 / 391] Train Loss: 1.550 \t Train Acc: 0.434\n",
      "\t [Batch 150 / 391] Train Loss: 1.517 \t Train Acc: 0.444\n",
      "\t [Batch 200 / 391] Train Loss: 1.503 \t Train Acc: 0.451\n",
      "\t [Batch 250 / 391] Train Loss: 1.476 \t Train Acc: 0.461\n",
      "\t [Batch 300 / 391] Train Loss: 1.450 \t Train Acc: 0.472\n",
      "\t [Batch 350 / 391] Train Loss: 1.431 \t Train Acc: 0.479\n",
      "Epoch 1:\t Train Loss: 1.419 \t Train Acc: 0.484\t Test Acc: 0.370\n",
      "Starting Epoch 2\n"
     ]
    },
    {
     "data": {
      "application/vnd.jupyter.widget-view+json": {
       "model_id": "779cdd92311d48febaf048b2f197c2e4",
       "version_major": 2,
       "version_minor": 0
      },
      "text/plain": [
       "  0%|          | 0/391 [00:00<?, ?it/s]"
      ]
     },
     "metadata": {},
     "output_type": "display_data"
    },
    {
     "name": "stdout",
     "output_type": "stream",
     "text": [
      "\t [Batch 50 / 391] Train Loss: 1.239 \t Train Acc: 0.558\n",
      "\t [Batch 100 / 391] Train Loss: 1.224 \t Train Acc: 0.560\n",
      "\t [Batch 150 / 391] Train Loss: 1.221 \t Train Acc: 0.560\n",
      "\t [Batch 200 / 391] Train Loss: 1.213 \t Train Acc: 0.565\n",
      "\t [Batch 250 / 391] Train Loss: 1.192 \t Train Acc: 0.572\n",
      "\t [Batch 300 / 391] Train Loss: 1.179 \t Train Acc: 0.577\n",
      "\t [Batch 350 / 391] Train Loss: 1.167 \t Train Acc: 0.582\n",
      "Epoch 2:\t Train Loss: 1.156 \t Train Acc: 0.587\t Test Acc: 0.423\n",
      "Starting Epoch 3\n"
     ]
    },
    {
     "data": {
      "application/vnd.jupyter.widget-view+json": {
       "model_id": "b9b35d86888b44c3bc37d4810630db53",
       "version_major": 2,
       "version_minor": 0
      },
      "text/plain": [
       "  0%|          | 0/391 [00:00<?, ?it/s]"
      ]
     },
     "metadata": {},
     "output_type": "display_data"
    },
    {
     "name": "stdout",
     "output_type": "stream",
     "text": [
      "\t [Batch 50 / 391] Train Loss: 1.037 \t Train Acc: 0.632\n",
      "\t [Batch 100 / 391] Train Loss: 1.044 \t Train Acc: 0.631\n",
      "\t [Batch 150 / 391] Train Loss: 1.021 \t Train Acc: 0.640\n",
      "\t [Batch 200 / 391] Train Loss: 1.008 \t Train Acc: 0.644\n",
      "\t [Batch 250 / 391] Train Loss: 0.987 \t Train Acc: 0.652\n",
      "\t [Batch 300 / 391] Train Loss: 0.977 \t Train Acc: 0.656\n",
      "\t [Batch 350 / 391] Train Loss: 0.971 \t Train Acc: 0.659\n",
      "Epoch 3:\t Train Loss: 0.965 \t Train Acc: 0.661\t Test Acc: 0.642\n",
      "Starting Epoch 4\n"
     ]
    },
    {
     "data": {
      "application/vnd.jupyter.widget-view+json": {
       "model_id": "247b4b9916aa49cfbc7e4d83be68bc7c",
       "version_major": 2,
       "version_minor": 0
      },
      "text/plain": [
       "  0%|          | 0/391 [00:00<?, ?it/s]"
      ]
     },
     "metadata": {},
     "output_type": "display_data"
    },
    {
     "name": "stdout",
     "output_type": "stream",
     "text": [
      "\t [Batch 50 / 391] Train Loss: 0.865 \t Train Acc: 0.699\n",
      "\t [Batch 100 / 391] Train Loss: 0.849 \t Train Acc: 0.708\n",
      "\t [Batch 150 / 391] Train Loss: 0.833 \t Train Acc: 0.714\n",
      "\t [Batch 200 / 391] Train Loss: 0.838 \t Train Acc: 0.710\n",
      "\t [Batch 250 / 391] Train Loss: 0.829 \t Train Acc: 0.713\n",
      "\t [Batch 300 / 391] Train Loss: 0.820 \t Train Acc: 0.716\n",
      "\t [Batch 350 / 391] Train Loss: 0.813 \t Train Acc: 0.718\n",
      "Epoch 4:\t Train Loss: 0.809 \t Train Acc: 0.720\t Test Acc: 0.609\n",
      "Starting Epoch 5\n"
     ]
    },
    {
     "data": {
      "application/vnd.jupyter.widget-view+json": {
       "model_id": "444818beea1a40d9ada88661ef686b39",
       "version_major": 2,
       "version_minor": 0
      },
      "text/plain": [
       "  0%|          | 0/391 [00:00<?, ?it/s]"
      ]
     },
     "metadata": {},
     "output_type": "display_data"
    },
    {
     "name": "stdout",
     "output_type": "stream",
     "text": [
      "\t [Batch 50 / 391] Train Loss: 0.745 \t Train Acc: 0.745\n",
      "\t [Batch 100 / 391] Train Loss: 0.731 \t Train Acc: 0.750\n",
      "\t [Batch 150 / 391] Train Loss: 0.730 \t Train Acc: 0.749\n",
      "\t [Batch 200 / 391] Train Loss: 0.721 \t Train Acc: 0.752\n",
      "\t [Batch 250 / 391] Train Loss: 0.716 \t Train Acc: 0.752\n",
      "\t [Batch 300 / 391] Train Loss: 0.712 \t Train Acc: 0.753\n",
      "\t [Batch 350 / 391] Train Loss: 0.704 \t Train Acc: 0.756\n",
      "Epoch 5:\t Train Loss: 0.704 \t Train Acc: 0.756\t Test Acc: 0.571\n",
      "Starting Epoch 6\n"
     ]
    },
    {
     "data": {
      "application/vnd.jupyter.widget-view+json": {
       "model_id": "dcac21f7c55443f6a2c7693daca06ca2",
       "version_major": 2,
       "version_minor": 0
      },
      "text/plain": [
       "  0%|          | 0/391 [00:00<?, ?it/s]"
      ]
     },
     "metadata": {},
     "output_type": "display_data"
    },
    {
     "name": "stdout",
     "output_type": "stream",
     "text": [
      "\t [Batch 50 / 391] Train Loss: 0.603 \t Train Acc: 0.798\n",
      "\t [Batch 100 / 391] Train Loss: 0.623 \t Train Acc: 0.787\n",
      "\t [Batch 150 / 391] Train Loss: 0.621 \t Train Acc: 0.789\n",
      "\t [Batch 200 / 391] Train Loss: 0.611 \t Train Acc: 0.791\n",
      "\t [Batch 250 / 391] Train Loss: 0.618 \t Train Acc: 0.790\n",
      "\t [Batch 300 / 391] Train Loss: 0.617 \t Train Acc: 0.790\n",
      "\t [Batch 350 / 391] Train Loss: 0.613 \t Train Acc: 0.791\n",
      "Epoch 6:\t Train Loss: 0.611 \t Train Acc: 0.791\t Test Acc: 0.741\n",
      "Starting Epoch 7\n"
     ]
    },
    {
     "data": {
      "application/vnd.jupyter.widget-view+json": {
       "model_id": "b1de55db6c334f69a057c11813d6c733",
       "version_major": 2,
       "version_minor": 0
      },
      "text/plain": [
       "  0%|          | 0/391 [00:00<?, ?it/s]"
      ]
     },
     "metadata": {},
     "output_type": "display_data"
    },
    {
     "name": "stdout",
     "output_type": "stream",
     "text": [
      "\t [Batch 50 / 391] Train Loss: 0.533 \t Train Acc: 0.818\n",
      "\t [Batch 100 / 391] Train Loss: 0.537 \t Train Acc: 0.818\n",
      "\t [Batch 150 / 391] Train Loss: 0.545 \t Train Acc: 0.815\n",
      "\t [Batch 200 / 391] Train Loss: 0.542 \t Train Acc: 0.816\n",
      "\t [Batch 250 / 391] Train Loss: 0.540 \t Train Acc: 0.817\n",
      "\t [Batch 300 / 391] Train Loss: 0.537 \t Train Acc: 0.817\n",
      "\t [Batch 350 / 391] Train Loss: 0.541 \t Train Acc: 0.816\n",
      "Epoch 7:\t Train Loss: 0.541 \t Train Acc: 0.816\t Test Acc: 0.777\n",
      "Starting Epoch 8\n"
     ]
    },
    {
     "data": {
      "application/vnd.jupyter.widget-view+json": {
       "model_id": "3d515bbbaf6041168605b07c3a7b2f96",
       "version_major": 2,
       "version_minor": 0
      },
      "text/plain": [
       "  0%|          | 0/391 [00:00<?, ?it/s]"
      ]
     },
     "metadata": {},
     "output_type": "display_data"
    },
    {
     "name": "stdout",
     "output_type": "stream",
     "text": [
      "\t [Batch 50 / 391] Train Loss: 0.463 \t Train Acc: 0.849\n",
      "\t [Batch 100 / 391] Train Loss: 0.444 \t Train Acc: 0.852\n",
      "\t [Batch 150 / 391] Train Loss: 0.465 \t Train Acc: 0.846\n",
      "\t [Batch 200 / 391] Train Loss: 0.461 \t Train Acc: 0.846\n",
      "\t [Batch 250 / 391] Train Loss: 0.472 \t Train Acc: 0.843\n",
      "\t [Batch 300 / 391] Train Loss: 0.474 \t Train Acc: 0.842\n",
      "\t [Batch 350 / 391] Train Loss: 0.465 \t Train Acc: 0.844\n",
      "Epoch 8:\t Train Loss: 0.465 \t Train Acc: 0.844\t Test Acc: 0.799\n",
      "Starting Epoch 9\n"
     ]
    },
    {
     "data": {
      "application/vnd.jupyter.widget-view+json": {
       "model_id": "39972660df304667896eccebfc2cc37b",
       "version_major": 2,
       "version_minor": 0
      },
      "text/plain": [
       "  0%|          | 0/391 [00:00<?, ?it/s]"
      ]
     },
     "metadata": {},
     "output_type": "display_data"
    },
    {
     "name": "stdout",
     "output_type": "stream",
     "text": [
      "\t [Batch 50 / 391] Train Loss: 0.386 \t Train Acc: 0.873\n",
      "\t [Batch 100 / 391] Train Loss: 0.383 \t Train Acc: 0.873\n",
      "\t [Batch 150 / 391] Train Loss: 0.385 \t Train Acc: 0.872\n",
      "\t [Batch 200 / 391] Train Loss: 0.405 \t Train Acc: 0.865\n",
      "\t [Batch 250 / 391] Train Loss: 0.401 \t Train Acc: 0.865\n",
      "\t [Batch 300 / 391] Train Loss: 0.402 \t Train Acc: 0.865\n",
      "\t [Batch 350 / 391] Train Loss: 0.403 \t Train Acc: 0.864\n",
      "Epoch 9:\t Train Loss: 0.405 \t Train Acc: 0.863\t Test Acc: 0.817\n",
      "Starting Epoch 10\n"
     ]
    },
    {
     "data": {
      "application/vnd.jupyter.widget-view+json": {
       "model_id": "8353ab6a9f494c65b6c569d428daec2c",
       "version_major": 2,
       "version_minor": 0
      },
      "text/plain": [
       "  0%|          | 0/391 [00:00<?, ?it/s]"
      ]
     },
     "metadata": {},
     "output_type": "display_data"
    },
    {
     "name": "stdout",
     "output_type": "stream",
     "text": [
      "\t [Batch 50 / 391] Train Loss: 0.330 \t Train Acc: 0.893\n",
      "\t [Batch 100 / 391] Train Loss: 0.346 \t Train Acc: 0.892\n",
      "\t [Batch 150 / 391] Train Loss: 0.335 \t Train Acc: 0.894\n",
      "\t [Batch 200 / 391] Train Loss: 0.331 \t Train Acc: 0.894\n",
      "\t [Batch 250 / 391] Train Loss: 0.334 \t Train Acc: 0.892\n",
      "\t [Batch 300 / 391] Train Loss: 0.336 \t Train Acc: 0.891\n",
      "\t [Batch 350 / 391] Train Loss: 0.339 \t Train Acc: 0.890\n",
      "Epoch 10:\t Train Loss: 0.340 \t Train Acc: 0.889\t Test Acc: 0.734\n",
      "Starting Epoch 11\n"
     ]
    },
    {
     "data": {
      "application/vnd.jupyter.widget-view+json": {
       "model_id": "8caffdad41cd4b53b9621c7eb00fffdf",
       "version_major": 2,
       "version_minor": 0
      },
      "text/plain": [
       "  0%|          | 0/391 [00:00<?, ?it/s]"
      ]
     },
     "metadata": {},
     "output_type": "display_data"
    },
    {
     "name": "stdout",
     "output_type": "stream",
     "text": [
      "\t [Batch 50 / 391] Train Loss: 0.287 \t Train Acc: 0.907\n",
      "\t [Batch 100 / 391] Train Loss: 0.285 \t Train Acc: 0.910\n",
      "\t [Batch 150 / 391] Train Loss: 0.286 \t Train Acc: 0.908\n",
      "\t [Batch 200 / 391] Train Loss: 0.288 \t Train Acc: 0.906\n",
      "\t [Batch 250 / 391] Train Loss: 0.277 \t Train Acc: 0.908\n",
      "\t [Batch 300 / 391] Train Loss: 0.275 \t Train Acc: 0.908\n",
      "\t [Batch 350 / 391] Train Loss: 0.280 \t Train Acc: 0.907\n",
      "Epoch 11:\t Train Loss: 0.287 \t Train Acc: 0.904\t Test Acc: 0.816\n",
      "Starting Epoch 12\n"
     ]
    },
    {
     "data": {
      "application/vnd.jupyter.widget-view+json": {
       "model_id": "2f272ccc140444fcbb880179ee2713d2",
       "version_major": 2,
       "version_minor": 0
      },
      "text/plain": [
       "  0%|          | 0/391 [00:00<?, ?it/s]"
      ]
     },
     "metadata": {},
     "output_type": "display_data"
    },
    {
     "name": "stdout",
     "output_type": "stream",
     "text": [
      "\t [Batch 50 / 391] Train Loss: 0.137 \t Train Acc: 0.955\n",
      "\t [Batch 100 / 391] Train Loss: 0.149 \t Train Acc: 0.951\n",
      "\t [Batch 150 / 391] Train Loss: 0.216 \t Train Acc: 0.938\n",
      "\t [Batch 200 / 391] Train Loss: 0.216 \t Train Acc: 0.938\n",
      "\t [Batch 250 / 391] Train Loss: 0.220 \t Train Acc: 0.934\n",
      "\t [Batch 300 / 391] Train Loss: 0.230 \t Train Acc: 0.930\n",
      "\t [Batch 350 / 391] Train Loss: 0.227 \t Train Acc: 0.930\n",
      "Epoch 12:\t Train Loss: 0.234 \t Train Acc: 0.927\t Test Acc: 0.791\n",
      "Starting Epoch 13\n"
     ]
    },
    {
     "data": {
      "application/vnd.jupyter.widget-view+json": {
       "model_id": "d12d2f91d5bd4c658d3027e00061f200",
       "version_major": 2,
       "version_minor": 0
      },
      "text/plain": [
       "  0%|          | 0/391 [00:00<?, ?it/s]"
      ]
     },
     "metadata": {},
     "output_type": "display_data"
    },
    {
     "name": "stdout",
     "output_type": "stream",
     "text": [
      "\t [Batch 50 / 391] Train Loss: 0.110 \t Train Acc: 0.965\n",
      "\t [Batch 100 / 391] Train Loss: 0.119 \t Train Acc: 0.963\n",
      "\t [Batch 150 / 391] Train Loss: 0.127 \t Train Acc: 0.960\n",
      "\t [Batch 200 / 391] Train Loss: 0.141 \t Train Acc: 0.956\n",
      "\t [Batch 250 / 391] Train Loss: 0.140 \t Train Acc: 0.956\n",
      "\t [Batch 300 / 391] Train Loss: 0.138 \t Train Acc: 0.956\n",
      "\t [Batch 350 / 391] Train Loss: 0.151 \t Train Acc: 0.952\n",
      "Epoch 13:\t Train Loss: 0.164 \t Train Acc: 0.949\t Test Acc: 0.624\n",
      "Starting Epoch 14\n"
     ]
    },
    {
     "data": {
      "application/vnd.jupyter.widget-view+json": {
       "model_id": "610879b14b8d4005bcbceb1ecb3092e6",
       "version_major": 2,
       "version_minor": 0
      },
      "text/plain": [
       "  0%|          | 0/391 [00:00<?, ?it/s]"
      ]
     },
     "metadata": {},
     "output_type": "display_data"
    },
    {
     "name": "stdout",
     "output_type": "stream",
     "text": [
      "\t [Batch 50 / 391] Train Loss: 0.132 \t Train Acc: 0.959\n",
      "\t [Batch 100 / 391] Train Loss: 0.103 \t Train Acc: 0.970\n",
      "\t [Batch 150 / 391] Train Loss: 0.089 \t Train Acc: 0.974\n",
      "\t [Batch 200 / 391] Train Loss: 0.083 \t Train Acc: 0.975\n",
      "\t [Batch 250 / 391] Train Loss: 0.091 \t Train Acc: 0.973\n",
      "\t [Batch 300 / 391] Train Loss: 0.087 \t Train Acc: 0.974\n",
      "\t [Batch 350 / 391] Train Loss: 0.100 \t Train Acc: 0.970\n",
      "Epoch 14:\t Train Loss: 0.100 \t Train Acc: 0.970\t Test Acc: 0.829\n",
      "Starting Epoch 15\n"
     ]
    },
    {
     "data": {
      "application/vnd.jupyter.widget-view+json": {
       "model_id": "38b702088d5a41bbb9e7ed6292f25840",
       "version_major": 2,
       "version_minor": 0
      },
      "text/plain": [
       "  0%|          | 0/391 [00:00<?, ?it/s]"
      ]
     },
     "metadata": {},
     "output_type": "display_data"
    },
    {
     "name": "stdout",
     "output_type": "stream",
     "text": [
      "\t [Batch 50 / 391] Train Loss: 0.035 \t Train Acc: 0.992\n",
      "\t [Batch 100 / 391] Train Loss: 0.031 \t Train Acc: 0.994\n",
      "\t [Batch 150 / 391] Train Loss: 0.030 \t Train Acc: 0.994\n",
      "\t [Batch 200 / 391] Train Loss: 0.029 \t Train Acc: 0.995\n",
      "\t [Batch 250 / 391] Train Loss: 0.028 \t Train Acc: 0.995\n",
      "\t [Batch 300 / 391] Train Loss: 0.028 \t Train Acc: 0.995\n",
      "\t [Batch 350 / 391] Train Loss: 0.027 \t Train Acc: 0.995\n",
      "Epoch 15:\t Train Loss: 0.027 \t Train Acc: 0.995\t Test Acc: 0.847\n",
      "Starting Epoch 16\n"
     ]
    },
    {
     "data": {
      "application/vnd.jupyter.widget-view+json": {
       "model_id": "e78c81f853f949689e416e831cb63b17",
       "version_major": 2,
       "version_minor": 0
      },
      "text/plain": [
       "  0%|          | 0/391 [00:00<?, ?it/s]"
      ]
     },
     "metadata": {},
     "output_type": "display_data"
    },
    {
     "name": "stdout",
     "output_type": "stream",
     "text": [
      "\t [Batch 50 / 391] Train Loss: 0.011 \t Train Acc: 1.000\n",
      "\t [Batch 100 / 391] Train Loss: 0.011 \t Train Acc: 0.999\n",
      "\t [Batch 150 / 391] Train Loss: 0.011 \t Train Acc: 1.000\n",
      "\t [Batch 200 / 391] Train Loss: 0.011 \t Train Acc: 0.999\n",
      "\t [Batch 250 / 391] Train Loss: 0.011 \t Train Acc: 0.999\n",
      "\t [Batch 300 / 391] Train Loss: 0.011 \t Train Acc: 0.999\n",
      "\t [Batch 350 / 391] Train Loss: 0.011 \t Train Acc: 0.999\n",
      "Epoch 16:\t Train Loss: 0.011 \t Train Acc: 0.999\t Test Acc: 0.827\n",
      "Starting Epoch 17\n"
     ]
    },
    {
     "data": {
      "application/vnd.jupyter.widget-view+json": {
       "model_id": "03be0a9a2c5a4007b1481fead5fa14ff",
       "version_major": 2,
       "version_minor": 0
      },
      "text/plain": [
       "  0%|          | 0/391 [00:00<?, ?it/s]"
      ]
     },
     "metadata": {},
     "output_type": "display_data"
    },
    {
     "name": "stdout",
     "output_type": "stream",
     "text": [
      "\t [Batch 50 / 391] Train Loss: 0.006 \t Train Acc: 1.000\n",
      "\t [Batch 100 / 391] Train Loss: 0.006 \t Train Acc: 1.000\n",
      "\t [Batch 150 / 391] Train Loss: 0.006 \t Train Acc: 1.000\n",
      "\t [Batch 200 / 391] Train Loss: 0.005 \t Train Acc: 1.000\n",
      "\t [Batch 250 / 391] Train Loss: 0.005 \t Train Acc: 1.000\n",
      "\t [Batch 300 / 391] Train Loss: 0.005 \t Train Acc: 1.000\n",
      "\t [Batch 350 / 391] Train Loss: 0.005 \t Train Acc: 1.000\n",
      "Epoch 17:\t Train Loss: 0.005 \t Train Acc: 1.000\t Test Acc: 0.856\n",
      "Starting Epoch 18\n"
     ]
    },
    {
     "data": {
      "application/vnd.jupyter.widget-view+json": {
       "model_id": "7c9fed9a795547ac9803c86f28ed561e",
       "version_major": 2,
       "version_minor": 0
      },
      "text/plain": [
       "  0%|          | 0/391 [00:00<?, ?it/s]"
      ]
     },
     "metadata": {},
     "output_type": "display_data"
    },
    {
     "name": "stdout",
     "output_type": "stream",
     "text": [
      "\t [Batch 50 / 391] Train Loss: 0.004 \t Train Acc: 1.000\n",
      "\t [Batch 100 / 391] Train Loss: 0.004 \t Train Acc: 1.000\n",
      "\t [Batch 150 / 391] Train Loss: 0.004 \t Train Acc: 1.000\n",
      "\t [Batch 200 / 391] Train Loss: 0.004 \t Train Acc: 1.000\n",
      "\t [Batch 250 / 391] Train Loss: 0.004 \t Train Acc: 1.000\n",
      "\t [Batch 300 / 391] Train Loss: 0.004 \t Train Acc: 1.000\n",
      "\t [Batch 350 / 391] Train Loss: 0.004 \t Train Acc: 1.000\n",
      "Epoch 18:\t Train Loss: 0.004 \t Train Acc: 1.000\t Test Acc: 0.858\n",
      "Starting Epoch 19\n"
     ]
    },
    {
     "data": {
      "application/vnd.jupyter.widget-view+json": {
       "model_id": "db162c82484f44e2bb5ecb72d76052e7",
       "version_major": 2,
       "version_minor": 0
      },
      "text/plain": [
       "  0%|          | 0/391 [00:00<?, ?it/s]"
      ]
     },
     "metadata": {},
     "output_type": "display_data"
    },
    {
     "name": "stdout",
     "output_type": "stream",
     "text": [
      "\t [Batch 50 / 391] Train Loss: 0.003 \t Train Acc: 1.000\n",
      "\t [Batch 100 / 391] Train Loss: 0.003 \t Train Acc: 1.000\n",
      "\t [Batch 150 / 391] Train Loss: 0.003 \t Train Acc: 1.000\n",
      "\t [Batch 200 / 391] Train Loss: 0.003 \t Train Acc: 1.000\n",
      "\t [Batch 250 / 391] Train Loss: 0.003 \t Train Acc: 1.000\n",
      "\t [Batch 300 / 391] Train Loss: 0.003 \t Train Acc: 1.000\n",
      "\t [Batch 350 / 391] Train Loss: 0.003 \t Train Acc: 1.000\n",
      "Epoch 19:\t Train Loss: 0.003 \t Train Acc: 1.000\t Test Acc: 0.855\n"
     ]
    }
   ],
   "source": [
    "model = make_cnn()\n",
    "epochs = 20\n",
    "train_loss, train_acc, test_loss, test_acc = train(model=model, train_dl=train_dl, test_dl=test_dl, opt=opt, epochs=epochs)"
   ]
  },
  {
   "cell_type": "markdown",
   "id": "hydraulic-virtue",
   "metadata": {},
   "source": [
    "## Problem 1"
   ]
  },
  {
   "cell_type": "markdown",
   "id": "little-candidate",
   "metadata": {},
   "source": [
    "note: I modified the code above to define a CustomTensorDataset class that allows the application of transforms"
   ]
  },
  {
   "cell_type": "code",
   "execution_count": 9,
   "id": "rapid-table",
   "metadata": {},
   "outputs": [
    {
     "data": {
      "text/plain": [
       "<matplotlib.image.AxesImage at 0x7f0ddc65aa58>"
      ]
     },
     "execution_count": 9,
     "metadata": {},
     "output_type": "execute_result"
    },
    {
     "data": {
      "image/png": "[encoded data removed]",
      "text/plain": [
       "<Figure size 432x288 with 1 Axes>"
      ]
     },
     "metadata": {
      "needs_background": "light"
     },
     "output_type": "display_data"
    }
   ],
   "source": [
    "X_te_flip = torch.flip(X_te,[2])\n",
    "plt.imshow(X_te[0].permute(1, 2, 0))"
   ]
  },
  {
   "cell_type": "code",
   "execution_count": 10,
   "id": "likely-police",
   "metadata": {},
   "outputs": [
    {
     "data": {
      "text/plain": [
       "<matplotlib.image.AxesImage at 0x7f0ddc6cad30>"
      ]
     },
     "execution_count": 10,
     "metadata": {},
     "output_type": "execute_result"
    },
    {
     "data": {
      "image/png": "[encoded data removed]",
      "text/plain": [
       "<Figure size 432x288 with 1 Axes>"
      ]
     },
     "metadata": {
      "needs_background": "light"
     },
     "output_type": "display_data"
    }
   ],
   "source": [
    "plt.imshow(X_te_flip[0].permute(1, 2, 0)) # confirm flipping has been done correctly\n"
   ]
  },
  {
   "cell_type": "code",
   "execution_count": 11,
   "id": "tribal-yeast",
   "metadata": {},
   "outputs": [
    {
     "name": "stdout",
     "output_type": "stream",
     "text": [
      "Overall test accuracy (85.48%) and test loss (0.5576294921875) for original images\n",
      "Overall test accuracy (42.24%) and test loss (3.0236646484375) for flipped images\n"
     ]
    }
   ],
   "source": [
    "test_dl_flip = make_loader(CustomTensorDataset([X_te_flip, Y_te]))\n",
    "test_loss_flip, test_acc_flip = evaluate(model, test_dl_flip)\n",
    "print(f\"Overall test accuracy ({100*test_acc}%) and test loss ({test_loss}) for original images\")\n",
    "print(f\"Overall test accuracy ({100*test_acc_flip}%) and test loss ({test_loss_flip}) for flipped images\")\n"
   ]
  },
  {
   "cell_type": "code",
   "execution_count": 12,
   "id": "curious-crystal",
   "metadata": {},
   "outputs": [
    {
     "name": "stdout",
     "output_type": "stream",
     "text": [
      "airplane: orig. acc 88.8%; acc drop for flipping 10.899999999999999%\n",
      "automobile: orig. acc 92.5%; acc drop for flipping 57.900000000000006%\n",
      "bird: orig. acc 79.4%; acc drop for flipping 44.7%\n",
      "cat: orig. acc 71.39999999999999%; acc drop for flipping 33.699999999999996%\n",
      "deer: orig. acc 82.89999999999999%; acc drop for flipping 40.0%\n",
      "dog: orig. acc 79.80000000000001%; acc drop for flipping 29.300000000000004%\n",
      "frog: orig. acc 88.0%; acc drop for flipping 20.599999999999994%\n",
      "horse: orig. acc 87.0%; acc drop for flipping 79.9%\n",
      "ship: orig. acc 92.9%; acc drop for flipping 66.10000000000001%\n",
      "truck: orig. acc 92.10000000000001%; acc drop for flipping 49.300000000000004%\n"
     ]
    }
   ],
   "source": [
    "cifar10_classnames = [\"airplane\",\"automobile\",\"bird\",\"cat\",\"deer\",\"dog\",\"frog\",\"horse\",\"ship\",\"truck\"]\n",
    "for label in range(10):\n",
    "    inds = np.where(Y_te==label)\n",
    "    test_dl_by_label = make_loader(CustomTensorDataset([X_te[inds], Y_te[inds]]))\n",
    "    test_loss_label, test_acc_label = evaluate(model, test_dl_by_label)\n",
    "    test_dl_by_label_flip = make_loader(TensorDataset(X_te_flip[inds], Y_te[inds]))\n",
    "    test_loss_flip_label, test_acc_flip_label = evaluate(model, test_dl_by_label_flip)\n",
    "    print(f\"{cifar10_classnames[label]}: orig. acc {100*test_acc_label}%; acc drop for flipping {100*(test_acc_label-test_acc_flip_label)}%\")\n",
    "    \n",
    "    "
   ]
  },
  {
   "cell_type": "code",
   "execution_count": 13,
   "id": "usual-confidentiality",
   "metadata": {},
   "outputs": [],
   "source": [
    "transform_aug = transforms.Compose(\n",
    "    [transforms.ToPILImage(),\n",
    "     transforms.RandomVerticalFlip(),\n",
    "     transforms.RandomHorizontalFlip(), # might as well include a random horizontal flip for additional robustness :P\n",
    "     transforms.ToTensor()])\n"
   ]
  },
  {
   "cell_type": "code",
   "execution_count": 14,
   "id": "joined-madison",
   "metadata": {},
   "outputs": [
    {
     "name": "stdout",
     "output_type": "stream",
     "text": [
      "Starting Epoch 0\n"
     ]
    },
    {
     "data": {
      "application/vnd.jupyter.widget-view+json": {
       "model_id": "b7d2545d97114ef9afc4e91ae2d711db",
       "version_major": 2,
       "version_minor": 0
      },
      "text/plain": [
       "  0%|          | 0/391 [00:00<?, ?it/s]"
      ]
     },
     "metadata": {},
     "output_type": "display_data"
    },
    {
     "name": "stdout",
     "output_type": "stream",
     "text": [
      "\t [Batch 50 / 391] Train Loss: 5.865 \t Train Acc: 0.159\n",
      "\t [Batch 100 / 391] Train Loss: 4.040 \t Train Acc: 0.181\n",
      "\t [Batch 150 / 391] Train Loss: 3.381 \t Train Acc: 0.201\n",
      "\t [Batch 200 / 391] Train Loss: 3.038 \t Train Acc: 0.215\n",
      "\t [Batch 250 / 391] Train Loss: 2.810 \t Train Acc: 0.231\n",
      "\t [Batch 300 / 391] Train Loss: 2.642 \t Train Acc: 0.248\n",
      "\t [Batch 350 / 391] Train Loss: 2.520 \t Train Acc: 0.261\n",
      "Epoch 0:\t Train Loss: 2.436 \t Train Acc: 0.272\t Test Acc: 0.360\n",
      "Starting Epoch 1\n"
     ]
    },
    {
     "data": {
      "application/vnd.jupyter.widget-view+json": {
       "model_id": "668a9dda173c429ca6a650a23ce2192d",
       "version_major": 2,
       "version_minor": 0
      },
      "text/plain": [
       "  0%|          | 0/391 [00:00<?, ?it/s]"
      ]
     },
     "metadata": {},
     "output_type": "display_data"
    },
    {
     "name": "stdout",
     "output_type": "stream",
     "text": [
      "\t [Batch 50 / 391] Train Loss: 1.679 \t Train Acc: 0.379\n",
      "\t [Batch 100 / 391] Train Loss: 1.659 \t Train Acc: 0.387\n",
      "\t [Batch 150 / 391] Train Loss: 1.646 \t Train Acc: 0.392\n",
      "\t [Batch 200 / 391] Train Loss: 1.630 \t Train Acc: 0.401\n",
      "\t [Batch 250 / 391] Train Loss: 1.613 \t Train Acc: 0.411\n",
      "\t [Batch 300 / 391] Train Loss: 1.592 \t Train Acc: 0.418\n",
      "\t [Batch 350 / 391] Train Loss: 1.570 \t Train Acc: 0.427\n",
      "Epoch 1:\t Train Loss: 1.556 \t Train Acc: 0.432\t Test Acc: 0.376\n",
      "Starting Epoch 2\n"
     ]
    },
    {
     "data": {
      "application/vnd.jupyter.widget-view+json": {
       "model_id": "25b09f820d7d42c9bdc1e1ffe7a476e7",
       "version_major": 2,
       "version_minor": 0
      },
      "text/plain": [
       "  0%|          | 0/391 [00:00<?, ?it/s]"
      ]
     },
     "metadata": {},
     "output_type": "display_data"
    },
    {
     "name": "stdout",
     "output_type": "stream",
     "text": [
      "\t [Batch 50 / 391] Train Loss: 1.402 \t Train Acc: 0.491\n",
      "\t [Batch 100 / 391] Train Loss: 1.400 \t Train Acc: 0.498\n",
      "\t [Batch 150 / 391] Train Loss: 1.379 \t Train Acc: 0.506\n",
      "\t [Batch 200 / 391] Train Loss: 1.366 \t Train Acc: 0.511\n",
      "\t [Batch 250 / 391] Train Loss: 1.351 \t Train Acc: 0.516\n",
      "\t [Batch 300 / 391] Train Loss: 1.337 \t Train Acc: 0.520\n",
      "\t [Batch 350 / 391] Train Loss: 1.327 \t Train Acc: 0.522\n",
      "Epoch 2:\t Train Loss: 1.322 \t Train Acc: 0.525\t Test Acc: 0.368\n",
      "Starting Epoch 3\n"
     ]
    },
    {
     "data": {
      "application/vnd.jupyter.widget-view+json": {
       "model_id": "cd292a3bc5b34d79a83bef462e7ed166",
       "version_major": 2,
       "version_minor": 0
      },
      "text/plain": [
       "  0%|          | 0/391 [00:00<?, ?it/s]"
      ]
     },
     "metadata": {},
     "output_type": "display_data"
    },
    {
     "name": "stdout",
     "output_type": "stream",
     "text": [
      "\t [Batch 50 / 391] Train Loss: 1.221 \t Train Acc: 0.568\n",
      "\t [Batch 100 / 391] Train Loss: 1.204 \t Train Acc: 0.571\n",
      "\t [Batch 150 / 391] Train Loss: 1.209 \t Train Acc: 0.571\n",
      "\t [Batch 200 / 391] Train Loss: 1.187 \t Train Acc: 0.579\n",
      "\t [Batch 250 / 391] Train Loss: 1.181 \t Train Acc: 0.583\n",
      "\t [Batch 300 / 391] Train Loss: 1.173 \t Train Acc: 0.585\n",
      "\t [Batch 350 / 391] Train Loss: 1.167 \t Train Acc: 0.588\n",
      "Epoch 3:\t Train Loss: 1.165 \t Train Acc: 0.587\t Test Acc: 0.552\n",
      "Starting Epoch 4\n"
     ]
    },
    {
     "data": {
      "application/vnd.jupyter.widget-view+json": {
       "model_id": "618bb384f14340569f698b0d32e53705",
       "version_major": 2,
       "version_minor": 0
      },
      "text/plain": [
       "  0%|          | 0/391 [00:00<?, ?it/s]"
      ]
     },
     "metadata": {},
     "output_type": "display_data"
    },
    {
     "name": "stdout",
     "output_type": "stream",
     "text": [
      "\t [Batch 50 / 391] Train Loss: 1.111 \t Train Acc: 0.609\n",
      "\t [Batch 100 / 391] Train Loss: 1.088 \t Train Acc: 0.614\n",
      "\t [Batch 150 / 391] Train Loss: 1.084 \t Train Acc: 0.614\n",
      "\t [Batch 200 / 391] Train Loss: 1.076 \t Train Acc: 0.616\n",
      "\t [Batch 250 / 391] Train Loss: 1.067 \t Train Acc: 0.621\n",
      "\t [Batch 300 / 391] Train Loss: 1.055 \t Train Acc: 0.625\n",
      "\t [Batch 350 / 391] Train Loss: 1.048 \t Train Acc: 0.628\n",
      "Epoch 4:\t Train Loss: 1.044 \t Train Acc: 0.629\t Test Acc: 0.600\n",
      "Starting Epoch 5\n"
     ]
    },
    {
     "data": {
      "application/vnd.jupyter.widget-view+json": {
       "model_id": "2e837b4914734c1bb8ef0651390210da",
       "version_major": 2,
       "version_minor": 0
      },
      "text/plain": [
       "  0%|          | 0/391 [00:00<?, ?it/s]"
      ]
     },
     "metadata": {},
     "output_type": "display_data"
    },
    {
     "name": "stdout",
     "output_type": "stream",
     "text": [
      "\t [Batch 50 / 391] Train Loss: 1.002 \t Train Acc: 0.653\n",
      "\t [Batch 100 / 391] Train Loss: 0.991 \t Train Acc: 0.654\n",
      "\t [Batch 150 / 391] Train Loss: 0.981 \t Train Acc: 0.655\n",
      "\t [Batch 200 / 391] Train Loss: 0.978 \t Train Acc: 0.656\n",
      "\t [Batch 250 / 391] Train Loss: 0.973 \t Train Acc: 0.658\n",
      "\t [Batch 300 / 391] Train Loss: 0.972 \t Train Acc: 0.659\n",
      "\t [Batch 350 / 391] Train Loss: 0.963 \t Train Acc: 0.662\n",
      "Epoch 5:\t Train Loss: 0.961 \t Train Acc: 0.662\t Test Acc: 0.552\n",
      "Starting Epoch 6\n"
     ]
    },
    {
     "data": {
      "application/vnd.jupyter.widget-view+json": {
       "model_id": "d321e89872f841f8985b7e0ace6ad7a7",
       "version_major": 2,
       "version_minor": 0
      },
      "text/plain": [
       "  0%|          | 0/391 [00:00<?, ?it/s]"
      ]
     },
     "metadata": {},
     "output_type": "display_data"
    },
    {
     "name": "stdout",
     "output_type": "stream",
     "text": [
      "\t [Batch 50 / 391] Train Loss: 0.912 \t Train Acc: 0.676\n",
      "\t [Batch 100 / 391] Train Loss: 0.906 \t Train Acc: 0.678\n",
      "\t [Batch 150 / 391] Train Loss: 0.907 \t Train Acc: 0.680\n",
      "\t [Batch 200 / 391] Train Loss: 0.904 \t Train Acc: 0.680\n",
      "\t [Batch 250 / 391] Train Loss: 0.900 \t Train Acc: 0.682\n",
      "\t [Batch 300 / 391] Train Loss: 0.896 \t Train Acc: 0.684\n",
      "\t [Batch 350 / 391] Train Loss: 0.893 \t Train Acc: 0.684\n",
      "Epoch 6:\t Train Loss: 0.892 \t Train Acc: 0.685\t Test Acc: 0.613\n",
      "Starting Epoch 7\n"
     ]
    },
    {
     "data": {
      "application/vnd.jupyter.widget-view+json": {
       "model_id": "84f12e3c6a27425ba0312181d194a1a1",
       "version_major": 2,
       "version_minor": 0
      },
      "text/plain": [
       "  0%|          | 0/391 [00:00<?, ?it/s]"
      ]
     },
     "metadata": {},
     "output_type": "display_data"
    },
    {
     "name": "stdout",
     "output_type": "stream",
     "text": [
      "\t [Batch 50 / 391] Train Loss: 0.839 \t Train Acc: 0.702\n",
      "\t [Batch 100 / 391] Train Loss: 0.844 \t Train Acc: 0.707\n",
      "\t [Batch 150 / 391] Train Loss: 0.835 \t Train Acc: 0.708\n",
      "\t [Batch 200 / 391] Train Loss: 0.835 \t Train Acc: 0.708\n",
      "\t [Batch 250 / 391] Train Loss: 0.837 \t Train Acc: 0.706\n",
      "\t [Batch 300 / 391] Train Loss: 0.840 \t Train Acc: 0.706\n",
      "\t [Batch 350 / 391] Train Loss: 0.836 \t Train Acc: 0.707\n",
      "Epoch 7:\t Train Loss: 0.833 \t Train Acc: 0.709\t Test Acc: 0.668\n",
      "Starting Epoch 8\n"
     ]
    },
    {
     "data": {
      "application/vnd.jupyter.widget-view+json": {
       "model_id": "8a4fed4ac77a49ceb2665ab57f9d4d74",
       "version_major": 2,
       "version_minor": 0
      },
      "text/plain": [
       "  0%|          | 0/391 [00:00<?, ?it/s]"
      ]
     },
     "metadata": {},
     "output_type": "display_data"
    },
    {
     "name": "stdout",
     "output_type": "stream",
     "text": [
      "\t [Batch 50 / 391] Train Loss: 0.815 \t Train Acc: 0.714\n",
      "\t [Batch 100 / 391] Train Loss: 0.810 \t Train Acc: 0.716\n",
      "\t [Batch 150 / 391] Train Loss: 0.792 \t Train Acc: 0.723\n",
      "\t [Batch 200 / 391] Train Loss: 0.787 \t Train Acc: 0.726\n",
      "\t [Batch 250 / 391] Train Loss: 0.784 \t Train Acc: 0.727\n",
      "\t [Batch 300 / 391] Train Loss: 0.784 \t Train Acc: 0.727\n",
      "\t [Batch 350 / 391] Train Loss: 0.779 \t Train Acc: 0.728\n",
      "Epoch 8:\t Train Loss: 0.779 \t Train Acc: 0.728\t Test Acc: 0.567\n",
      "Starting Epoch 9\n"
     ]
    },
    {
     "data": {
      "application/vnd.jupyter.widget-view+json": {
       "model_id": "5456783d486442ec85a9a7877462f7ac",
       "version_major": 2,
       "version_minor": 0
      },
      "text/plain": [
       "  0%|          | 0/391 [00:00<?, ?it/s]"
      ]
     },
     "metadata": {},
     "output_type": "display_data"
    },
    {
     "name": "stdout",
     "output_type": "stream",
     "text": [
      "\t [Batch 50 / 391] Train Loss: 0.744 \t Train Acc: 0.739\n",
      "\t [Batch 100 / 391] Train Loss: 0.740 \t Train Acc: 0.737\n",
      "\t [Batch 150 / 391] Train Loss: 0.741 \t Train Acc: 0.737\n",
      "\t [Batch 200 / 391] Train Loss: 0.738 \t Train Acc: 0.739\n",
      "\t [Batch 250 / 391] Train Loss: 0.736 \t Train Acc: 0.742\n",
      "\t [Batch 300 / 391] Train Loss: 0.734 \t Train Acc: 0.743\n",
      "\t [Batch 350 / 391] Train Loss: 0.732 \t Train Acc: 0.744\n",
      "Epoch 9:\t Train Loss: 0.734 \t Train Acc: 0.743\t Test Acc: 0.709\n",
      "Starting Epoch 10\n"
     ]
    },
    {
     "data": {
      "application/vnd.jupyter.widget-view+json": {
       "model_id": "0ad714b85b424e07a1972f924521db8f",
       "version_major": 2,
       "version_minor": 0
      },
      "text/plain": [
       "  0%|          | 0/391 [00:00<?, ?it/s]"
      ]
     },
     "metadata": {},
     "output_type": "display_data"
    },
    {
     "name": "stdout",
     "output_type": "stream",
     "text": [
      "\t [Batch 50 / 391] Train Loss: 0.701 \t Train Acc: 0.755\n",
      "\t [Batch 100 / 391] Train Loss: 0.697 \t Train Acc: 0.759\n",
      "\t [Batch 150 / 391] Train Loss: 0.696 \t Train Acc: 0.761\n",
      "\t [Batch 200 / 391] Train Loss: 0.693 \t Train Acc: 0.760\n",
      "\t [Batch 250 / 391] Train Loss: 0.697 \t Train Acc: 0.758\n",
      "\t [Batch 300 / 391] Train Loss: 0.693 \t Train Acc: 0.759\n",
      "\t [Batch 350 / 391] Train Loss: 0.692 \t Train Acc: 0.759\n",
      "Epoch 10:\t Train Loss: 0.692 \t Train Acc: 0.759\t Test Acc: 0.704\n",
      "Starting Epoch 11\n"
     ]
    },
    {
     "data": {
      "application/vnd.jupyter.widget-view+json": {
       "model_id": "df554bd617e847638bde6361b6dea2f2",
       "version_major": 2,
       "version_minor": 0
      },
      "text/plain": [
       "  0%|          | 0/391 [00:00<?, ?it/s]"
      ]
     },
     "metadata": {},
     "output_type": "display_data"
    },
    {
     "name": "stdout",
     "output_type": "stream",
     "text": [
      "\t [Batch 50 / 391] Train Loss: 0.661 \t Train Acc: 0.767\n",
      "\t [Batch 100 / 391] Train Loss: 0.655 \t Train Acc: 0.770\n",
      "\t [Batch 150 / 391] Train Loss: 0.669 \t Train Acc: 0.768\n",
      "\t [Batch 200 / 391] Train Loss: 0.660 \t Train Acc: 0.770\n",
      "\t [Batch 250 / 391] Train Loss: 0.657 \t Train Acc: 0.771\n",
      "\t [Batch 300 / 391] Train Loss: 0.656 \t Train Acc: 0.772\n",
      "\t [Batch 350 / 391] Train Loss: 0.654 \t Train Acc: 0.773\n",
      "Epoch 11:\t Train Loss: 0.653 \t Train Acc: 0.773\t Test Acc: 0.422\n",
      "Starting Epoch 12\n"
     ]
    },
    {
     "data": {
      "application/vnd.jupyter.widget-view+json": {
       "model_id": "a68bdb49c17a4c1ea9776cf3ebdad3d4",
       "version_major": 2,
       "version_minor": 0
      },
      "text/plain": [
       "  0%|          | 0/391 [00:00<?, ?it/s]"
      ]
     },
     "metadata": {},
     "output_type": "display_data"
    },
    {
     "name": "stdout",
     "output_type": "stream",
     "text": [
      "\t [Batch 50 / 391] Train Loss: 0.614 \t Train Acc: 0.783\n",
      "\t [Batch 100 / 391] Train Loss: 0.612 \t Train Acc: 0.786\n",
      "\t [Batch 150 / 391] Train Loss: 0.621 \t Train Acc: 0.784\n",
      "\t [Batch 200 / 391] Train Loss: 0.622 \t Train Acc: 0.784\n",
      "\t [Batch 250 / 391] Train Loss: 0.619 \t Train Acc: 0.786\n",
      "\t [Batch 300 / 391] Train Loss: 0.616 \t Train Acc: 0.787\n",
      "\t [Batch 350 / 391] Train Loss: 0.613 \t Train Acc: 0.788\n",
      "Epoch 12:\t Train Loss: 0.613 \t Train Acc: 0.788\t Test Acc: 0.717\n",
      "Starting Epoch 13\n"
     ]
    },
    {
     "data": {
      "application/vnd.jupyter.widget-view+json": {
       "model_id": "0e08736fb4e742e19c1cf981b864b0c2",
       "version_major": 2,
       "version_minor": 0
      },
      "text/plain": [
       "  0%|          | 0/391 [00:00<?, ?it/s]"
      ]
     },
     "metadata": {},
     "output_type": "display_data"
    },
    {
     "name": "stdout",
     "output_type": "stream",
     "text": [
      "\t [Batch 50 / 391] Train Loss: 0.618 \t Train Acc: 0.790\n",
      "\t [Batch 100 / 391] Train Loss: 0.600 \t Train Acc: 0.795\n",
      "\t [Batch 150 / 391] Train Loss: 0.598 \t Train Acc: 0.793\n",
      "\t [Batch 200 / 391] Train Loss: 0.595 \t Train Acc: 0.794\n",
      "\t [Batch 250 / 391] Train Loss: 0.592 \t Train Acc: 0.795\n",
      "\t [Batch 300 / 391] Train Loss: 0.590 \t Train Acc: 0.796\n",
      "\t [Batch 350 / 391] Train Loss: 0.593 \t Train Acc: 0.795\n",
      "Epoch 13:\t Train Loss: 0.589 \t Train Acc: 0.796\t Test Acc: 0.731\n",
      "Starting Epoch 14\n"
     ]
    },
    {
     "data": {
      "application/vnd.jupyter.widget-view+json": {
       "model_id": "50e74cde78be48d889b61b646db3f1dc",
       "version_major": 2,
       "version_minor": 0
      },
      "text/plain": [
       "  0%|          | 0/391 [00:00<?, ?it/s]"
      ]
     },
     "metadata": {},
     "output_type": "display_data"
    },
    {
     "name": "stdout",
     "output_type": "stream",
     "text": [
      "\t [Batch 50 / 391] Train Loss: 0.566 \t Train Acc: 0.802\n",
      "\t [Batch 100 / 391] Train Loss: 0.554 \t Train Acc: 0.808\n",
      "\t [Batch 150 / 391] Train Loss: 0.556 \t Train Acc: 0.808\n",
      "\t [Batch 200 / 391] Train Loss: 0.561 \t Train Acc: 0.807\n",
      "\t [Batch 250 / 391] Train Loss: 0.558 \t Train Acc: 0.808\n",
      "\t [Batch 300 / 391] Train Loss: 0.558 \t Train Acc: 0.807\n",
      "\t [Batch 350 / 391] Train Loss: 0.558 \t Train Acc: 0.807\n",
      "Epoch 14:\t Train Loss: 0.560 \t Train Acc: 0.807\t Test Acc: 0.746\n",
      "Starting Epoch 15\n"
     ]
    },
    {
     "data": {
      "application/vnd.jupyter.widget-view+json": {
       "model_id": "0e935a1a4ce94232bfb3c35fd0334200",
       "version_major": 2,
       "version_minor": 0
      },
      "text/plain": [
       "  0%|          | 0/391 [00:00<?, ?it/s]"
      ]
     },
     "metadata": {},
     "output_type": "display_data"
    },
    {
     "name": "stdout",
     "output_type": "stream",
     "text": [
      "\t [Batch 50 / 391] Train Loss: 0.535 \t Train Acc: 0.816\n",
      "\t [Batch 100 / 391] Train Loss: 0.528 \t Train Acc: 0.820\n",
      "\t [Batch 150 / 391] Train Loss: 0.530 \t Train Acc: 0.818\n",
      "\t [Batch 200 / 391] Train Loss: 0.525 \t Train Acc: 0.819\n",
      "\t [Batch 250 / 391] Train Loss: 0.521 \t Train Acc: 0.819\n",
      "\t [Batch 300 / 391] Train Loss: 0.526 \t Train Acc: 0.818\n",
      "\t [Batch 350 / 391] Train Loss: 0.523 \t Train Acc: 0.818\n",
      "Epoch 15:\t Train Loss: 0.524 \t Train Acc: 0.818\t Test Acc: 0.751\n",
      "Starting Epoch 16\n"
     ]
    },
    {
     "data": {
      "application/vnd.jupyter.widget-view+json": {
       "model_id": "52e710cd6afd4e128a0a937b763d3d9b",
       "version_major": 2,
       "version_minor": 0
      },
      "text/plain": [
       "  0%|          | 0/391 [00:00<?, ?it/s]"
      ]
     },
     "metadata": {},
     "output_type": "display_data"
    },
    {
     "name": "stdout",
     "output_type": "stream",
     "text": [
      "\t [Batch 50 / 391] Train Loss: 0.517 \t Train Acc: 0.826\n",
      "\t [Batch 100 / 391] Train Loss: 0.502 \t Train Acc: 0.829\n",
      "\t [Batch 150 / 391] Train Loss: 0.506 \t Train Acc: 0.826\n",
      "\t [Batch 200 / 391] Train Loss: 0.499 \t Train Acc: 0.827\n",
      "\t [Batch 250 / 391] Train Loss: 0.499 \t Train Acc: 0.828\n",
      "\t [Batch 300 / 391] Train Loss: 0.501 \t Train Acc: 0.827\n",
      "\t [Batch 350 / 391] Train Loss: 0.501 \t Train Acc: 0.827\n",
      "Epoch 16:\t Train Loss: 0.502 \t Train Acc: 0.826\t Test Acc: 0.680\n",
      "Starting Epoch 17\n"
     ]
    },
    {
     "data": {
      "application/vnd.jupyter.widget-view+json": {
       "model_id": "ed12d199c47d48559a28c20ce1ba11a1",
       "version_major": 2,
       "version_minor": 0
      },
      "text/plain": [
       "  0%|          | 0/391 [00:00<?, ?it/s]"
      ]
     },
     "metadata": {},
     "output_type": "display_data"
    },
    {
     "name": "stdout",
     "output_type": "stream",
     "text": [
      "\t [Batch 50 / 391] Train Loss: 0.464 \t Train Acc: 0.837\n",
      "\t [Batch 100 / 391] Train Loss: 0.468 \t Train Acc: 0.837\n",
      "\t [Batch 150 / 391] Train Loss: 0.481 \t Train Acc: 0.832\n",
      "\t [Batch 200 / 391] Train Loss: 0.478 \t Train Acc: 0.833\n",
      "\t [Batch 250 / 391] Train Loss: 0.481 \t Train Acc: 0.832\n",
      "\t [Batch 300 / 391] Train Loss: 0.480 \t Train Acc: 0.832\n",
      "\t [Batch 350 / 391] Train Loss: 0.478 \t Train Acc: 0.833\n",
      "Epoch 17:\t Train Loss: 0.482 \t Train Acc: 0.832\t Test Acc: 0.704\n",
      "Starting Epoch 18\n"
     ]
    },
    {
     "data": {
      "application/vnd.jupyter.widget-view+json": {
       "model_id": "1a482efaf6214304a44ab289f7351b2e",
       "version_major": 2,
       "version_minor": 0
      },
      "text/plain": [
       "  0%|          | 0/391 [00:00<?, ?it/s]"
      ]
     },
     "metadata": {},
     "output_type": "display_data"
    },
    {
     "name": "stdout",
     "output_type": "stream",
     "text": [
      "\t [Batch 50 / 391] Train Loss: 0.466 \t Train Acc: 0.839\n",
      "\t [Batch 100 / 391] Train Loss: 0.454 \t Train Acc: 0.844\n",
      "\t [Batch 150 / 391] Train Loss: 0.453 \t Train Acc: 0.843\n",
      "\t [Batch 200 / 391] Train Loss: 0.457 \t Train Acc: 0.841\n",
      "\t [Batch 250 / 391] Train Loss: 0.451 \t Train Acc: 0.843\n",
      "\t [Batch 300 / 391] Train Loss: 0.454 \t Train Acc: 0.843\n",
      "\t [Batch 350 / 391] Train Loss: 0.455 \t Train Acc: 0.842\n",
      "Epoch 18:\t Train Loss: 0.453 \t Train Acc: 0.843\t Test Acc: 0.756\n",
      "Starting Epoch 19\n"
     ]
    },
    {
     "data": {
      "application/vnd.jupyter.widget-view+json": {
       "model_id": "a1f9bcaa413446dda8e52864d96565c1",
       "version_major": 2,
       "version_minor": 0
      },
      "text/plain": [
       "  0%|          | 0/391 [00:00<?, ?it/s]"
      ]
     },
     "metadata": {},
     "output_type": "display_data"
    },
    {
     "name": "stdout",
     "output_type": "stream",
     "text": [
      "\t [Batch 50 / 391] Train Loss: 0.442 \t Train Acc: 0.848\n",
      "\t [Batch 100 / 391] Train Loss: 0.435 \t Train Acc: 0.850\n",
      "\t [Batch 150 / 391] Train Loss: 0.426 \t Train Acc: 0.853\n",
      "\t [Batch 200 / 391] Train Loss: 0.427 \t Train Acc: 0.853\n",
      "\t [Batch 250 / 391] Train Loss: 0.432 \t Train Acc: 0.852\n",
      "\t [Batch 300 / 391] Train Loss: 0.435 \t Train Acc: 0.850\n",
      "\t [Batch 350 / 391] Train Loss: 0.435 \t Train Acc: 0.850\n",
      "Epoch 19:\t Train Loss: 0.431 \t Train Acc: 0.851\t Test Acc: 0.775\n",
      "Starting Epoch 20\n"
     ]
    },
    {
     "data": {
      "application/vnd.jupyter.widget-view+json": {
       "model_id": "489552bda56e47c1bda7d55837662530",
       "version_major": 2,
       "version_minor": 0
      },
      "text/plain": [
       "  0%|          | 0/391 [00:00<?, ?it/s]"
      ]
     },
     "metadata": {},
     "output_type": "display_data"
    },
    {
     "name": "stdout",
     "output_type": "stream",
     "text": [
      "\t [Batch 50 / 391] Train Loss: 0.403 \t Train Acc: 0.858\n",
      "\t [Batch 100 / 391] Train Loss: 0.415 \t Train Acc: 0.856\n",
      "\t [Batch 150 / 391] Train Loss: 0.416 \t Train Acc: 0.856\n",
      "\t [Batch 200 / 391] Train Loss: 0.409 \t Train Acc: 0.858\n",
      "\t [Batch 250 / 391] Train Loss: 0.418 \t Train Acc: 0.855\n",
      "\t [Batch 300 / 391] Train Loss: 0.408 \t Train Acc: 0.859\n",
      "\t [Batch 350 / 391] Train Loss: 0.410 \t Train Acc: 0.858\n",
      "Epoch 20:\t Train Loss: 0.410 \t Train Acc: 0.858\t Test Acc: 0.769\n",
      "Starting Epoch 21\n"
     ]
    },
    {
     "data": {
      "application/vnd.jupyter.widget-view+json": {
       "model_id": "8b30f8d780ea48f7b6304c2e233f4c02",
       "version_major": 2,
       "version_minor": 0
      },
      "text/plain": [
       "  0%|          | 0/391 [00:00<?, ?it/s]"
      ]
     },
     "metadata": {},
     "output_type": "display_data"
    },
    {
     "name": "stdout",
     "output_type": "stream",
     "text": [
      "\t [Batch 50 / 391] Train Loss: 0.373 \t Train Acc: 0.874\n",
      "\t [Batch 100 / 391] Train Loss: 0.370 \t Train Acc: 0.872\n",
      "\t [Batch 150 / 391] Train Loss: 0.377 \t Train Acc: 0.871\n",
      "\t [Batch 200 / 391] Train Loss: 0.381 \t Train Acc: 0.870\n",
      "\t [Batch 250 / 391] Train Loss: 0.388 \t Train Acc: 0.867\n",
      "\t [Batch 300 / 391] Train Loss: 0.389 \t Train Acc: 0.866\n",
      "\t [Batch 350 / 391] Train Loss: 0.393 \t Train Acc: 0.865\n",
      "Epoch 21:\t Train Loss: 0.396 \t Train Acc: 0.864\t Test Acc: 0.763\n",
      "Starting Epoch 22\n"
     ]
    },
    {
     "data": {
      "application/vnd.jupyter.widget-view+json": {
       "model_id": "304335a817714a7a8b19b1ff84538b41",
       "version_major": 2,
       "version_minor": 0
      },
      "text/plain": [
       "  0%|          | 0/391 [00:00<?, ?it/s]"
      ]
     },
     "metadata": {},
     "output_type": "display_data"
    },
    {
     "name": "stdout",
     "output_type": "stream",
     "text": [
      "\t [Batch 50 / 391] Train Loss: 0.393 \t Train Acc: 0.864\n",
      "\t [Batch 100 / 391] Train Loss: 0.381 \t Train Acc: 0.868\n",
      "\t [Batch 150 / 391] Train Loss: 0.373 \t Train Acc: 0.871\n",
      "\t [Batch 200 / 391] Train Loss: 0.372 \t Train Acc: 0.872\n",
      "\t [Batch 250 / 391] Train Loss: 0.369 \t Train Acc: 0.874\n",
      "\t [Batch 300 / 391] Train Loss: 0.368 \t Train Acc: 0.874\n",
      "\t [Batch 350 / 391] Train Loss: 0.370 \t Train Acc: 0.873\n",
      "Epoch 22:\t Train Loss: 0.374 \t Train Acc: 0.873\t Test Acc: 0.779\n",
      "Starting Epoch 23\n"
     ]
    },
    {
     "data": {
      "application/vnd.jupyter.widget-view+json": {
       "model_id": "e926e3f7a0bd4cd08223ca06ee66ae23",
       "version_major": 2,
       "version_minor": 0
      },
      "text/plain": [
       "  0%|          | 0/391 [00:00<?, ?it/s]"
      ]
     },
     "metadata": {},
     "output_type": "display_data"
    },
    {
     "name": "stdout",
     "output_type": "stream",
     "text": [
      "\t [Batch 50 / 391] Train Loss: 0.345 \t Train Acc: 0.881\n",
      "\t [Batch 100 / 391] Train Loss: 0.335 \t Train Acc: 0.884\n",
      "\t [Batch 150 / 391] Train Loss: 0.342 \t Train Acc: 0.882\n",
      "\t [Batch 200 / 391] Train Loss: 0.345 \t Train Acc: 0.880\n",
      "\t [Batch 250 / 391] Train Loss: 0.349 \t Train Acc: 0.879\n",
      "\t [Batch 300 / 391] Train Loss: 0.351 \t Train Acc: 0.877\n",
      "\t [Batch 350 / 391] Train Loss: 0.351 \t Train Acc: 0.877\n",
      "Epoch 23:\t Train Loss: 0.351 \t Train Acc: 0.878\t Test Acc: 0.703\n",
      "Starting Epoch 24\n"
     ]
    },
    {
     "data": {
      "application/vnd.jupyter.widget-view+json": {
       "model_id": "532becfb5eb44649984b44f57d8fefa3",
       "version_major": 2,
       "version_minor": 0
      },
      "text/plain": [
       "  0%|          | 0/391 [00:00<?, ?it/s]"
      ]
     },
     "metadata": {},
     "output_type": "display_data"
    },
    {
     "name": "stdout",
     "output_type": "stream",
     "text": [
      "\t [Batch 50 / 391] Train Loss: 0.355 \t Train Acc: 0.880\n",
      "\t [Batch 100 / 391] Train Loss: 0.354 \t Train Acc: 0.878\n",
      "\t [Batch 150 / 391] Train Loss: 0.343 \t Train Acc: 0.881\n",
      "\t [Batch 200 / 391] Train Loss: 0.343 \t Train Acc: 0.880\n",
      "\t [Batch 250 / 391] Train Loss: 0.342 \t Train Acc: 0.880\n",
      "\t [Batch 300 / 391] Train Loss: 0.343 \t Train Acc: 0.880\n",
      "\t [Batch 350 / 391] Train Loss: 0.347 \t Train Acc: 0.879\n",
      "Epoch 24:\t Train Loss: 0.345 \t Train Acc: 0.879\t Test Acc: 0.774\n",
      "Starting Epoch 25\n"
     ]
    },
    {
     "data": {
      "application/vnd.jupyter.widget-view+json": {
       "model_id": "3dfb00f7f16844f19faff6546d69ac58",
       "version_major": 2,
       "version_minor": 0
      },
      "text/plain": [
       "  0%|          | 0/391 [00:00<?, ?it/s]"
      ]
     },
     "metadata": {},
     "output_type": "display_data"
    },
    {
     "name": "stdout",
     "output_type": "stream",
     "text": [
      "\t [Batch 50 / 391] Train Loss: 0.287 \t Train Acc: 0.900\n",
      "\t [Batch 100 / 391] Train Loss: 0.301 \t Train Acc: 0.897\n",
      "\t [Batch 150 / 391] Train Loss: 0.307 \t Train Acc: 0.894\n",
      "\t [Batch 200 / 391] Train Loss: 0.318 \t Train Acc: 0.890\n",
      "\t [Batch 250 / 391] Train Loss: 0.317 \t Train Acc: 0.890\n",
      "\t [Batch 300 / 391] Train Loss: 0.317 \t Train Acc: 0.890\n",
      "\t [Batch 350 / 391] Train Loss: 0.318 \t Train Acc: 0.891\n",
      "Epoch 25:\t Train Loss: 0.320 \t Train Acc: 0.890\t Test Acc: 0.811\n",
      "Starting Epoch 26\n"
     ]
    },
    {
     "data": {
      "application/vnd.jupyter.widget-view+json": {
       "model_id": "31586bee94df4745934a8e83ae9aa63c",
       "version_major": 2,
       "version_minor": 0
      },
      "text/plain": [
       "  0%|          | 0/391 [00:00<?, ?it/s]"
      ]
     },
     "metadata": {},
     "output_type": "display_data"
    },
    {
     "name": "stdout",
     "output_type": "stream",
     "text": [
      "\t [Batch 50 / 391] Train Loss: 0.303 \t Train Acc: 0.899\n",
      "\t [Batch 100 / 391] Train Loss: 0.287 \t Train Acc: 0.902\n",
      "\t [Batch 150 / 391] Train Loss: 0.297 \t Train Acc: 0.899\n",
      "\t [Batch 200 / 391] Train Loss: 0.299 \t Train Acc: 0.897\n",
      "\t [Batch 250 / 391] Train Loss: 0.299 \t Train Acc: 0.897\n",
      "\t [Batch 300 / 391] Train Loss: 0.303 \t Train Acc: 0.896\n",
      "\t [Batch 350 / 391] Train Loss: 0.304 \t Train Acc: 0.895\n",
      "Epoch 26:\t Train Loss: 0.302 \t Train Acc: 0.895\t Test Acc: 0.790\n",
      "Starting Epoch 27\n"
     ]
    },
    {
     "data": {
      "application/vnd.jupyter.widget-view+json": {
       "model_id": "1f5abfe2106c454bb4027ae436ca7c07",
       "version_major": 2,
       "version_minor": 0
      },
      "text/plain": [
       "  0%|          | 0/391 [00:00<?, ?it/s]"
      ]
     },
     "metadata": {},
     "output_type": "display_data"
    },
    {
     "name": "stdout",
     "output_type": "stream",
     "text": [
      "\t [Batch 50 / 391] Train Loss: 0.262 \t Train Acc: 0.913\n",
      "\t [Batch 100 / 391] Train Loss: 0.273 \t Train Acc: 0.909\n",
      "\t [Batch 150 / 391] Train Loss: 0.274 \t Train Acc: 0.908\n",
      "\t [Batch 200 / 391] Train Loss: 0.270 \t Train Acc: 0.908\n",
      "\t [Batch 250 / 391] Train Loss: 0.274 \t Train Acc: 0.907\n",
      "\t [Batch 300 / 391] Train Loss: 0.278 \t Train Acc: 0.906\n",
      "\t [Batch 350 / 391] Train Loss: 0.284 \t Train Acc: 0.904\n",
      "Epoch 27:\t Train Loss: 0.285 \t Train Acc: 0.903\t Test Acc: 0.765\n",
      "Starting Epoch 28\n"
     ]
    },
    {
     "data": {
      "application/vnd.jupyter.widget-view+json": {
       "model_id": "6fde63b45f4c4ec792e2d4e4d497d6f3",
       "version_major": 2,
       "version_minor": 0
      },
      "text/plain": [
       "  0%|          | 0/391 [00:00<?, ?it/s]"
      ]
     },
     "metadata": {},
     "output_type": "display_data"
    },
    {
     "name": "stdout",
     "output_type": "stream",
     "text": [
      "\t [Batch 50 / 391] Train Loss: 0.299 \t Train Acc: 0.903\n",
      "\t [Batch 100 / 391] Train Loss: 0.273 \t Train Acc: 0.910\n",
      "\t [Batch 150 / 391] Train Loss: 0.275 \t Train Acc: 0.908\n",
      "\t [Batch 200 / 391] Train Loss: 0.276 \t Train Acc: 0.906\n",
      "\t [Batch 250 / 391] Train Loss: 0.274 \t Train Acc: 0.907\n",
      "\t [Batch 300 / 391] Train Loss: 0.274 \t Train Acc: 0.907\n",
      "\t [Batch 350 / 391] Train Loss: 0.273 \t Train Acc: 0.907\n",
      "Epoch 28:\t Train Loss: 0.271 \t Train Acc: 0.907\t Test Acc: 0.813\n",
      "Starting Epoch 29\n"
     ]
    },
    {
     "data": {
      "application/vnd.jupyter.widget-view+json": {
       "model_id": "34184cef685044bd95f6706769d2d8bc",
       "version_major": 2,
       "version_minor": 0
      },
      "text/plain": [
       "  0%|          | 0/391 [00:00<?, ?it/s]"
      ]
     },
     "metadata": {},
     "output_type": "display_data"
    },
    {
     "name": "stdout",
     "output_type": "stream",
     "text": [
      "\t [Batch 50 / 391] Train Loss: 0.262 \t Train Acc: 0.912\n",
      "\t [Batch 100 / 391] Train Loss: 0.269 \t Train Acc: 0.909\n",
      "\t [Batch 150 / 391] Train Loss: 0.266 \t Train Acc: 0.910\n",
      "\t [Batch 200 / 391] Train Loss: 0.257 \t Train Acc: 0.912\n",
      "\t [Batch 250 / 391] Train Loss: 0.257 \t Train Acc: 0.912\n",
      "\t [Batch 300 / 391] Train Loss: 0.263 \t Train Acc: 0.911\n",
      "\t [Batch 350 / 391] Train Loss: 0.261 \t Train Acc: 0.912\n",
      "Epoch 29:\t Train Loss: 0.260 \t Train Acc: 0.912\t Test Acc: 0.798\n",
      "Starting Epoch 30\n"
     ]
    },
    {
     "data": {
      "application/vnd.jupyter.widget-view+json": {
       "model_id": "e74eeddb9bfa4f23b7c7844d654df135",
       "version_major": 2,
       "version_minor": 0
      },
      "text/plain": [
       "  0%|          | 0/391 [00:00<?, ?it/s]"
      ]
     },
     "metadata": {},
     "output_type": "display_data"
    },
    {
     "name": "stdout",
     "output_type": "stream",
     "text": [
      "\t [Batch 50 / 391] Train Loss: 0.217 \t Train Acc: 0.927\n",
      "\t [Batch 100 / 391] Train Loss: 0.231 \t Train Acc: 0.922\n",
      "\t [Batch 150 / 391] Train Loss: 0.233 \t Train Acc: 0.921\n",
      "\t [Batch 200 / 391] Train Loss: 0.231 \t Train Acc: 0.922\n",
      "\t [Batch 250 / 391] Train Loss: 0.231 \t Train Acc: 0.922\n",
      "\t [Batch 300 / 391] Train Loss: 0.232 \t Train Acc: 0.921\n",
      "\t [Batch 350 / 391] Train Loss: 0.231 \t Train Acc: 0.920\n",
      "Epoch 30:\t Train Loss: 0.239 \t Train Acc: 0.918\t Test Acc: 0.820\n",
      "Starting Epoch 31\n"
     ]
    },
    {
     "data": {
      "application/vnd.jupyter.widget-view+json": {
       "model_id": "c160652b796c4cd386a1e0096c6c82be",
       "version_major": 2,
       "version_minor": 0
      },
      "text/plain": [
       "  0%|          | 0/391 [00:00<?, ?it/s]"
      ]
     },
     "metadata": {},
     "output_type": "display_data"
    },
    {
     "name": "stdout",
     "output_type": "stream",
     "text": [
      "\t [Batch 50 / 391] Train Loss: 0.227 \t Train Acc: 0.928\n",
      "\t [Batch 100 / 391] Train Loss: 0.225 \t Train Acc: 0.927\n",
      "\t [Batch 150 / 391] Train Loss: 0.220 \t Train Acc: 0.927\n",
      "\t [Batch 200 / 391] Train Loss: 0.224 \t Train Acc: 0.925\n",
      "\t [Batch 250 / 391] Train Loss: 0.221 \t Train Acc: 0.925\n",
      "\t [Batch 300 / 391] Train Loss: 0.225 \t Train Acc: 0.925\n",
      "\t [Batch 350 / 391] Train Loss: 0.225 \t Train Acc: 0.924\n",
      "Epoch 31:\t Train Loss: 0.227 \t Train Acc: 0.923\t Test Acc: 0.772\n",
      "Starting Epoch 32\n"
     ]
    },
    {
     "data": {
      "application/vnd.jupyter.widget-view+json": {
       "model_id": "49256cc6847d492b831bc06200edf4c0",
       "version_major": 2,
       "version_minor": 0
      },
      "text/plain": [
       "  0%|          | 0/391 [00:00<?, ?it/s]"
      ]
     },
     "metadata": {},
     "output_type": "display_data"
    },
    {
     "name": "stdout",
     "output_type": "stream",
     "text": [
      "\t [Batch 50 / 391] Train Loss: 0.192 \t Train Acc: 0.936\n",
      "\t [Batch 100 / 391] Train Loss: 0.182 \t Train Acc: 0.938\n",
      "\t [Batch 150 / 391] Train Loss: 0.190 \t Train Acc: 0.937\n",
      "\t [Batch 200 / 391] Train Loss: 0.192 \t Train Acc: 0.936\n",
      "\t [Batch 250 / 391] Train Loss: 0.193 \t Train Acc: 0.935\n",
      "\t [Batch 300 / 391] Train Loss: 0.197 \t Train Acc: 0.933\n",
      "\t [Batch 350 / 391] Train Loss: 0.200 \t Train Acc: 0.932\n",
      "Epoch 32:\t Train Loss: 0.201 \t Train Acc: 0.932\t Test Acc: 0.777\n",
      "Starting Epoch 33\n"
     ]
    },
    {
     "data": {
      "application/vnd.jupyter.widget-view+json": {
       "model_id": "923aaa6406514e8fb1f623db621ece0d",
       "version_major": 2,
       "version_minor": 0
      },
      "text/plain": [
       "  0%|          | 0/391 [00:00<?, ?it/s]"
      ]
     },
     "metadata": {},
     "output_type": "display_data"
    },
    {
     "name": "stdout",
     "output_type": "stream",
     "text": [
      "\t [Batch 50 / 391] Train Loss: 0.182 \t Train Acc: 0.941\n",
      "\t [Batch 100 / 391] Train Loss: 0.177 \t Train Acc: 0.941\n",
      "\t [Batch 150 / 391] Train Loss: 0.178 \t Train Acc: 0.940\n",
      "\t [Batch 200 / 391] Train Loss: 0.178 \t Train Acc: 0.940\n",
      "\t [Batch 250 / 391] Train Loss: 0.189 \t Train Acc: 0.936\n",
      "\t [Batch 300 / 391] Train Loss: 0.190 \t Train Acc: 0.936\n",
      "\t [Batch 350 / 391] Train Loss: 0.192 \t Train Acc: 0.935\n",
      "Epoch 33:\t Train Loss: 0.191 \t Train Acc: 0.935\t Test Acc: 0.818\n",
      "Starting Epoch 34\n"
     ]
    },
    {
     "data": {
      "application/vnd.jupyter.widget-view+json": {
       "model_id": "58c29b3cb1e048fa96b8daf015517a62",
       "version_major": 2,
       "version_minor": 0
      },
      "text/plain": [
       "  0%|          | 0/391 [00:00<?, ?it/s]"
      ]
     },
     "metadata": {},
     "output_type": "display_data"
    },
    {
     "name": "stdout",
     "output_type": "stream",
     "text": [
      "\t [Batch 50 / 391] Train Loss: 0.169 \t Train Acc: 0.942\n",
      "\t [Batch 100 / 391] Train Loss: 0.164 \t Train Acc: 0.943\n",
      "\t [Batch 150 / 391] Train Loss: 0.175 \t Train Acc: 0.940\n",
      "\t [Batch 200 / 391] Train Loss: 0.180 \t Train Acc: 0.939\n",
      "\t [Batch 250 / 391] Train Loss: 0.188 \t Train Acc: 0.937\n",
      "\t [Batch 300 / 391] Train Loss: 0.187 \t Train Acc: 0.937\n",
      "\t [Batch 350 / 391] Train Loss: 0.185 \t Train Acc: 0.938\n",
      "Epoch 34:\t Train Loss: 0.187 \t Train Acc: 0.937\t Test Acc: 0.832\n",
      "Starting Epoch 35\n"
     ]
    },
    {
     "data": {
      "application/vnd.jupyter.widget-view+json": {
       "model_id": "a69239626a2247ddbb9770350f2bb88e",
       "version_major": 2,
       "version_minor": 0
      },
      "text/plain": [
       "  0%|          | 0/391 [00:00<?, ?it/s]"
      ]
     },
     "metadata": {},
     "output_type": "display_data"
    },
    {
     "name": "stdout",
     "output_type": "stream",
     "text": [
      "\t [Batch 50 / 391] Train Loss: 0.138 \t Train Acc: 0.955\n",
      "\t [Batch 100 / 391] Train Loss: 0.145 \t Train Acc: 0.951\n",
      "\t [Batch 150 / 391] Train Loss: 0.144 \t Train Acc: 0.951\n",
      "\t [Batch 200 / 391] Train Loss: 0.151 \t Train Acc: 0.947\n",
      "\t [Batch 250 / 391] Train Loss: 0.152 \t Train Acc: 0.948\n",
      "\t [Batch 300 / 391] Train Loss: 0.154 \t Train Acc: 0.947\n",
      "\t [Batch 350 / 391] Train Loss: 0.160 \t Train Acc: 0.946\n",
      "Epoch 35:\t Train Loss: 0.165 \t Train Acc: 0.944\t Test Acc: 0.789\n",
      "Starting Epoch 36\n"
     ]
    },
    {
     "data": {
      "application/vnd.jupyter.widget-view+json": {
       "model_id": "0a761ac179ce4e9ea2c3025d87026855",
       "version_major": 2,
       "version_minor": 0
      },
      "text/plain": [
       "  0%|          | 0/391 [00:00<?, ?it/s]"
      ]
     },
     "metadata": {},
     "output_type": "display_data"
    },
    {
     "name": "stdout",
     "output_type": "stream",
     "text": [
      "\t [Batch 50 / 391] Train Loss: 0.144 \t Train Acc: 0.949\n",
      "\t [Batch 100 / 391] Train Loss: 0.144 \t Train Acc: 0.951\n",
      "\t [Batch 150 / 391] Train Loss: 0.138 \t Train Acc: 0.954\n",
      "\t [Batch 200 / 391] Train Loss: 0.142 \t Train Acc: 0.952\n",
      "\t [Batch 250 / 391] Train Loss: 0.143 \t Train Acc: 0.951\n",
      "\t [Batch 300 / 391] Train Loss: 0.147 \t Train Acc: 0.950\n",
      "\t [Batch 350 / 391] Train Loss: 0.150 \t Train Acc: 0.949\n",
      "Epoch 36:\t Train Loss: 0.154 \t Train Acc: 0.948\t Test Acc: 0.811\n",
      "Starting Epoch 37\n"
     ]
    },
    {
     "data": {
      "application/vnd.jupyter.widget-view+json": {
       "model_id": "d7c1761ca52c448781bf09b533e10a41",
       "version_major": 2,
       "version_minor": 0
      },
      "text/plain": [
       "  0%|          | 0/391 [00:00<?, ?it/s]"
      ]
     },
     "metadata": {},
     "output_type": "display_data"
    },
    {
     "name": "stdout",
     "output_type": "stream",
     "text": [
      "\t [Batch 50 / 391] Train Loss: 0.136 \t Train Acc: 0.958\n",
      "\t [Batch 100 / 391] Train Loss: 0.130 \t Train Acc: 0.958\n",
      "\t [Batch 150 / 391] Train Loss: 0.131 \t Train Acc: 0.957\n",
      "\t [Batch 200 / 391] Train Loss: 0.136 \t Train Acc: 0.955\n",
      "\t [Batch 250 / 391] Train Loss: 0.138 \t Train Acc: 0.955\n",
      "\t [Batch 300 / 391] Train Loss: 0.138 \t Train Acc: 0.954\n",
      "\t [Batch 350 / 391] Train Loss: 0.145 \t Train Acc: 0.952\n",
      "Epoch 37:\t Train Loss: 0.146 \t Train Acc: 0.952\t Test Acc: 0.814\n",
      "Starting Epoch 38\n"
     ]
    },
    {
     "data": {
      "application/vnd.jupyter.widget-view+json": {
       "model_id": "9e8ccb6c1a644874a39cd51622d64514",
       "version_major": 2,
       "version_minor": 0
      },
      "text/plain": [
       "  0%|          | 0/391 [00:00<?, ?it/s]"
      ]
     },
     "metadata": {},
     "output_type": "display_data"
    },
    {
     "name": "stdout",
     "output_type": "stream",
     "text": [
      "\t [Batch 50 / 391] Train Loss: 0.113 \t Train Acc: 0.963\n",
      "\t [Batch 100 / 391] Train Loss: 0.122 \t Train Acc: 0.959\n",
      "\t [Batch 150 / 391] Train Loss: 0.122 \t Train Acc: 0.959\n",
      "\t [Batch 200 / 391] Train Loss: 0.130 \t Train Acc: 0.956\n",
      "\t [Batch 250 / 391] Train Loss: 0.130 \t Train Acc: 0.956\n",
      "\t [Batch 300 / 391] Train Loss: 0.129 \t Train Acc: 0.957\n",
      "\t [Batch 350 / 391] Train Loss: 0.134 \t Train Acc: 0.955\n",
      "Epoch 38:\t Train Loss: 0.133 \t Train Acc: 0.955\t Test Acc: 0.801\n",
      "Starting Epoch 39\n"
     ]
    },
    {
     "data": {
      "application/vnd.jupyter.widget-view+json": {
       "model_id": "e8cd5b9807ea47a3a519a668be84fefb",
       "version_major": 2,
       "version_minor": 0
      },
      "text/plain": [
       "  0%|          | 0/391 [00:00<?, ?it/s]"
      ]
     },
     "metadata": {},
     "output_type": "display_data"
    },
    {
     "name": "stdout",
     "output_type": "stream",
     "text": [
      "\t [Batch 50 / 391] Train Loss: 0.097 \t Train Acc: 0.968\n",
      "\t [Batch 100 / 391] Train Loss: 0.111 \t Train Acc: 0.963\n",
      "\t [Batch 150 / 391] Train Loss: 0.110 \t Train Acc: 0.963\n",
      "\t [Batch 200 / 391] Train Loss: 0.113 \t Train Acc: 0.963\n",
      "\t [Batch 250 / 391] Train Loss: 0.119 \t Train Acc: 0.961\n",
      "\t [Batch 300 / 391] Train Loss: 0.116 \t Train Acc: 0.962\n",
      "\t [Batch 350 / 391] Train Loss: 0.117 \t Train Acc: 0.962\n",
      "Epoch 39:\t Train Loss: 0.118 \t Train Acc: 0.961\t Test Acc: 0.823\n"
     ]
    }
   ],
   "source": [
    "train_dl_aug = make_loader(CustomTensorDataset([X_tr, Y_tr],transform = transform_aug))\n",
    "test_dl_aug = make_loader(CustomTensorDataset([X_te, Y_te],transform = transform_aug))\n",
    "\n",
    "model_aug = make_cnn()\n",
    "epochs = 40\n",
    "train_loss_aug, train_acc_aug, test_loss_aug, test_acc_aug = train(model=model_aug, train_dl=train_dl_aug, test_dl=test_dl_aug, epochs=epochs)"
   ]
  },
  {
   "cell_type": "markdown",
   "id": "published-addition",
   "metadata": {},
   "source": [
    "I added horizontal and vertical flipping for data augmentation - horizontal flipping as prescribed by the problem, and vertical flipping as it generally seems like a good idea for the kind of data we are working with in CIFAR10. After all, a vertically flipped dog still looks very much like a dog. As the training accuracy was still improving after 20 epochs, I increased the number of total epochs to 40. Accuracies as requested are below."
   ]
  },
  {
   "cell_type": "code",
   "execution_count": 16,
   "id": "unauthorized-nashville",
   "metadata": {},
   "outputs": [
    {
     "name": "stdout",
     "output_type": "stream",
     "text": [
      "Accuracy on original test data: 82.17999999999999%\n",
      "Accuracy on vertically flipped test data: 82.26%\n"
     ]
    }
   ],
   "source": [
    "test_loss_orig, test_acc_orig = evaluate(model_aug, test_dl)\n",
    "test_loss_flip, test_acc_flip = evaluate(model_aug, test_dl_flip)\n",
    "print(f\"Accuracy on original test data: {100*test_acc_orig}%\")\n",
    "print(f\"Accuracy on vertically flipped test data: {100*test_acc_flip}%\")"
   ]
  },
  {
   "cell_type": "code",
   "execution_count": null,
   "id": "renewable-astrology",
   "metadata": {},
   "outputs": [],
   "source": []
  }
 ],
 "metadata": {
  "kernelspec": {
   "display_name": "Python 3",
   "language": "python",
   "name": "python3"
  },
  "language_info": {
   "codemirror_mode": {
    "name": "ipython",
    "version": 3
   },
   "file_extension": ".py",
   "mimetype": "text/x-python",
   "name": "python",
   "nbconvert_exporter": "python",
   "pygments_lexer": "ipython3",
   "version": "3.6.9"
  }
 },
 "nbformat": 4,
 "nbformat_minor": 5
}
