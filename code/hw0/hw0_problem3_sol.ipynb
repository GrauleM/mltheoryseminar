{
 "cells": [
  {
   "cell_type": "code",
   "execution_count": 1,
   "id": "charming-diamond",
   "metadata": {},
   "outputs": [],
   "source": [
    "import torch\n",
    "import torch.nn as nn\n",
    "import numpy as np\n",
    "from torch.utils.data import DataLoader, Dataset, TensorDataset\n",
    "import torchvision.datasets as ds\n",
    "import pylab as plt"
   ]
  },
  {
   "cell_type": "code",
   "execution_count": 2,
   "id": "coordinate-arctic",
   "metadata": {},
   "outputs": [],
   "source": [
    "def load_mnist(datadir='./data_cache'):\n",
    "    train_ds = ds.MNIST(root=datadir, train=True,\n",
    "                           download=True, transform=None)\n",
    "    test_ds = ds.MNIST(root=datadir, train=False,\n",
    "                          download=True, transform=None)\n",
    "\n",
    "    def to_xy(dataset):\n",
    "        X = np.array(dataset.data) / 255.0  # [0, 1]\n",
    "        Y = np.array(dataset.targets)\n",
    "        return X, Y\n",
    "\n",
    "    X_tr, Y_tr = to_xy(train_ds)\n",
    "    X_te, Y_te = to_xy(test_ds)\n",
    "    return X_tr, Y_tr, X_te, Y_te\n",
    "\n",
    "X_tr, Y_tr, X_te, Y_te = load_mnist()"
   ]
  },
  {
   "cell_type": "code",
   "execution_count": 3,
   "id": "defined-angel",
   "metadata": {},
   "outputs": [
    {
     "data": {
      "text/plain": [
       "Text(0.5, 1.0, 'digit: 1')"
      ]
     },
     "execution_count": 3,
     "metadata": {},
     "output_type": "execute_result"
    },
    {
     "data": {
      "image/png": "[encoded data removed]",
      "text/plain": [
       "<Figure size 432x288 with 1 Axes>"
      ]
     },
     "metadata": {
      "needs_background": "light"
     },
     "output_type": "display_data"
    }
   ],
   "source": [
    "i = np.random.choice(len(X_tr))\n",
    "plt.imshow(X_tr[i], cmap='gray')\n",
    "plt.title(f'digit: {Y_tr[i]}')"
   ]
  },
  {
   "cell_type": "markdown",
   "id": "intimate-prompt",
   "metadata": {},
   "source": [
    "## Linear Regression"
   ]
  },
  {
   "cell_type": "code",
   "execution_count": 4,
   "id": "underlying-syndrome",
   "metadata": {},
   "outputs": [
    {
     "name": "stdout",
     "output_type": "stream",
     "text": [
      "original X_tr: (60000, 28, 28)\n",
      "reshaped X: (500, 784)\n",
      "reshaped Y: (500,)\n"
     ]
    }
   ],
   "source": [
    "print('original X_tr:', X_tr.shape)\n",
    "\n",
    "# select 500 random examples\n",
    "n = 500\n",
    "I = np.random.choice(len(X_tr), n, replace=False)\n",
    "X = X_tr[I]\n",
    "Y = (Y_tr[I] % 2) * 2.0 - 1 # odd/even --> +1/-1\n",
    "X = X.reshape(-1,  28*28) # flatten\n",
    "\n",
    "print('reshaped X:', X.shape)\n",
    "print('reshaped Y:', Y.shape)"
   ]
  },
  {
   "cell_type": "markdown",
   "id": "resident-department",
   "metadata": {},
   "source": [
    "Now solve:\n",
    "$$\\text{argmin}_\\beta ||X \\beta - Y||_2$$\n",
    "for $\\beta \\in \\mathbb{R}^{784}$"
   ]
  },
  {
   "cell_type": "markdown",
   "id": "crude-dialogue",
   "metadata": {},
   "source": [
    "### 0."
   ]
  },
  {
   "cell_type": "code",
   "execution_count": 5,
   "id": "secure-turkish",
   "metadata": {},
   "outputs": [
    {
     "name": "stdout",
     "output_type": "stream",
     "text": [
      "rank: 500\n"
     ]
    }
   ],
   "source": [
    "rank = np.linalg.matrix_rank(X)\n",
    "print(f\"rank: {rank}\")"
   ]
  },
  {
   "cell_type": "markdown",
   "id": "light-blame",
   "metadata": {},
   "source": [
    "### 1."
   ]
  },
  {
   "cell_type": "code",
   "execution_count": 16,
   "id": "satisfactory-dimension",
   "metadata": {},
   "outputs": [
    {
     "name": "stdout",
     "output_type": "stream",
     "text": [
      "train error: 1.4870180905216459e-28\n",
      "train acc: 100.0%\n",
      "test error: 39.8055916440636\n",
      "test acc: 7.68%\n",
      "shape of beta: (784,)\n"
     ]
    }
   ],
   "source": [
    "X_pinv = np.linalg.pinv(X)\n",
    "beta_sol = np.matmul(X_pinv,Y)\n",
    "\n",
    "# double check:\n",
    "train_error = np.linalg.norm(np.matmul(X,beta_sol)-Y)**2/Y.shape[0]\n",
    "print(f\"train error: {train_error}\")\n",
    "print(f\"train acc: {100*np.sum(np.round(np.matmul(X,beta_sol))==Y)/Y.shape[0]}%\")\n",
    "\n",
    "# get the 'test error'\n",
    "test_error = np.linalg.norm(np.matmul(X_te.reshape(-1,  28*28),beta_sol)-Y_te)**2/Y_te.shape[0]\n",
    "print(f\"test error: {test_error}\")\n",
    "print(f\"test acc: {100*np.sum(np.round(np.matmul(X_te.reshape(-1,  28*28),beta_sol))==Y_te)/Y_te.shape[0]}%\")\n",
    "\n",
    "\n",
    "print(f\"shape of beta: {beta_sol.shape}\") # to double check that everything makes sense"
   ]
  },
  {
   "cell_type": "markdown",
   "id": "armed-porter",
   "metadata": {},
   "source": [
    "Using the Moore-Penrose pseudo-inverse of X, we did find the least-squares solution to the equation $X \\beta=Y$ as confirmed by the low 'train error'. This however does not generalize well (as expected, as it was unlikely that a linear model could capture this problem)."
   ]
  },
  {
   "cell_type": "markdown",
   "id": "objective-sending",
   "metadata": {},
   "source": [
    "### 2."
   ]
  },
  {
   "cell_type": "markdown",
   "id": "floral-tyler",
   "metadata": {},
   "source": [
    "$\\frac{\\partial L}{\\partial \\beta} = (X^TX)\\beta-X^TY$"
   ]
  },
  {
   "cell_type": "markdown",
   "id": "mental-ethiopia",
   "metadata": {},
   "source": [
    "please see the separate python script for the coding part of this problem. I implemented both GD and SGD.\n",
    "\n",
    "The SGD I implemented does not use minibatches. It does not converge to a useful solution, but I also did not have a lot of time to play around with hyperparams... We shouldn't really expect SGD or GD to give as a better solution for this problem than the approach using the pseudoinverse, as we are still relying on a linear model... The SGD I implemented with the given hyeprparams still does not achieve a training error as low as that of the approach using the pseudoinverse. Minibatches should provide a better tradeoff between accuracy hat can be achieved and computational cost. "
   ]
  },
  {
   "cell_type": "markdown",
   "id": "refined-syndication",
   "metadata": {},
   "source": []
  },
  {
   "cell_type": "markdown",
   "id": "fitting-newark",
   "metadata": {},
   "source": [
    "### 3."
   ]
  },
  {
   "cell_type": "code",
   "execution_count": 18,
   "id": "silent-vacuum",
   "metadata": {},
   "outputs": [
    {
     "name": "stdout",
     "output_type": "stream",
     "text": [
      "condition nr of X: 6797.2089409889695\n"
     ]
    }
   ],
   "source": [
    "# get the condition number of X:\n",
    "\n",
    "cond = np.linalg.cond(X)\n",
    "print(f\"condition nr of X: {cond}\")"
   ]
  },
  {
   "cell_type": "markdown",
   "id": "constant-artist",
   "metadata": {},
   "source": [
    "The condition number of X gives us an idea how sensitive our solution is to changes in beta. The condition number in this example is large, meaning small changes in beta will have a large effect on the resulting Y (and thus the error). This makes the problem ill-suited for SGD or GD (taking a relatively small step along the gradient has a relaively large effect here - less likely to converge / numerically unstable). "
   ]
  }
 ],
 "metadata": {
  "kernelspec": {
   "display_name": "Python 3",
   "language": "python",
   "name": "python3"
  },
  "language_info": {
   "codemirror_mode": {
    "name": "ipython",
    "version": 3
   },
   "file_extension": ".py",
   "mimetype": "text/x-python",
   "name": "python",
   "nbconvert_exporter": "python",
   "pygments_lexer": "ipython3",
   "version": "3.6.9"
  }
 },
 "nbformat": 4,
 "nbformat_minor": 5
}
