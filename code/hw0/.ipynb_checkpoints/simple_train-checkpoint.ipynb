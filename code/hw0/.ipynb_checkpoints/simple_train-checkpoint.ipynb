{
 "cells": [
  {
   "cell_type": "code",
   "execution_count": 1,
   "id": "protective-harmony",
   "metadata": {},
   "outputs": [],
   "source": [
    "# install: tqdm (progress bars)\n",
    "!pip install tqdm\n",
    "\n",
    "import torch\n",
    "import torch.nn as nn\n",
    "import numpy as np\n",
    "from tqdm.auto import tqdm\n",
    "from torch.utils.data import DataLoader, Dataset, TensorDataset\n",
    "import torchvision.datasets as ds"
   ]
  },
  {
   "cell_type": "markdown",
   "id": "subjective-august",
   "metadata": {},
   "source": [
    "## Load the data (CIFAR-10)"
   ]
  },
  {
   "cell_type": "code",
   "execution_count": 2,
   "id": "minimal-blade",
   "metadata": {},
   "outputs": [
    {
     "name": "stdout",
     "output_type": "stream",
     "text": [
      "Files already downloaded and verified\n",
      "Files already downloaded and verified\n"
     ]
    }
   ],
   "source": [
    "def load_cifar(datadir='./data_cache'): # will download ~400MB of data into this dir. Change the dir if neccesary. If using paperspace, you can make this /storage\n",
    "    train_ds = ds.CIFAR10(root=datadir, train=True,\n",
    "                           download=True, transform=None)\n",
    "    test_ds = ds.CIFAR10(root=datadir, train=False,\n",
    "                          download=True, transform=None)\n",
    "\n",
    "    def to_xy(dataset):\n",
    "        X = torch.Tensor(np.transpose(dataset.data, (0, 3, 1, 2))).float() / 255.0  # [0, 1]\n",
    "        Y = torch.Tensor(np.array(dataset.targets)).long()\n",
    "        return X, Y\n",
    "\n",
    "    X_tr, Y_tr = to_xy(train_ds)\n",
    "    X_te, Y_te = to_xy(test_ds)\n",
    "    return X_tr, Y_tr, X_te, Y_te\n",
    "\n",
    "def make_loader(dataset, batch_size=128):\n",
    "    return torch.utils.data.DataLoader(dataset, batch_size=batch_size,\n",
    "            shuffle=True, num_workers=4, pin_memory=True)\n",
    "\n",
    "X_tr, Y_tr, X_te, Y_te = load_cifar()\n",
    "train_dl = make_loader(TensorDataset(X_tr, Y_tr))\n",
    "test_dl = make_loader(TensorDataset(X_te, Y_te))"
   ]
  },
  {
   "cell_type": "markdown",
   "id": "several-ceremony",
   "metadata": {},
   "source": [
    "## Training helper functions"
   ]
  },
  {
   "cell_type": "code",
   "execution_count": 12,
   "id": "liable-settle",
   "metadata": {},
   "outputs": [],
   "source": [
    "def train_epoch(model, train_dl : DataLoader, opt, k = 50):\n",
    "    ''' Trains model for one epoch on the provided dataloader, with optimizer opt. Logs stats every k batches.'''\n",
    "    loss_func = nn.CrossEntropyLoss()\n",
    "    model.train()\n",
    "    model.cuda()\n",
    "\n",
    "    netLoss = 0.0\n",
    "    nCorrect = 0\n",
    "    nTotal = 0\n",
    "    for i, (xB, yB) in enumerate(tqdm(train_dl)):\n",
    "        opt.zero_grad()\n",
    "        xB, yB = xB.cuda(), yB.cuda()\n",
    "        outputs = model(xB)\n",
    "        loss = loss_func(outputs, yB)\n",
    "        loss.backward()\n",
    "        opt.step()\n",
    "        netLoss += loss.item() * len(xB)\n",
    "        with torch.no_grad():\n",
    "            _, preds = torch.max(outputs, dim=1)\n",
    "            nCorrect += (preds == yB).float().sum()\n",
    "            nTotal += preds.size(0)\n",
    "        \n",
    "        if (i+1) % k == 0:\n",
    "            train_acc = nCorrect/nTotal\n",
    "            avg_loss = netLoss/nTotal\n",
    "            print(f'\\t [Batch {i+1} / {len(train_dl)}] Train Loss: {avg_loss:.3f} \\t Train Acc: {train_acc:.3f}')\n",
    "  \n",
    "    train_acc = nCorrect/nTotal\n",
    "    avg_loss = netLoss/nTotal\n",
    "    return avg_loss, train_acc\n",
    "\n",
    "\n",
    "def evaluate(model, test_dl, loss_func=nn.CrossEntropyLoss().cuda()):\n",
    "    ''' Returns loss, acc'''\n",
    "    model.eval()\n",
    "    model.cuda()\n",
    "    nCorrect = 0.0\n",
    "    nTotal = 0\n",
    "    net_loss = 0.0\n",
    "    with torch.no_grad():\n",
    "        for (xb, yb) in test_dl:\n",
    "            xb, yb = xb.cuda(), yb.cuda()\n",
    "            outputs = model(xb)\n",
    "            loss = len(xb) * loss_func(outputs, yb)\n",
    "            _, preds = torch.max(outputs, dim=1)\n",
    "            nCorrect += (preds == yb).float().sum()\n",
    "            net_loss += loss\n",
    "            nTotal += preds.size(0)\n",
    "\n",
    "    acc = nCorrect.cpu().item() / float(nTotal)\n",
    "    loss = net_loss.cpu().item() / float(nTotal)\n",
    "    return loss, acc"
   ]
  },
  {
   "cell_type": "code",
   "execution_count": 7,
   "id": "excess-facial",
   "metadata": {},
   "outputs": [],
   "source": [
    "## Define model"
   ]
  },
  {
   "cell_type": "code",
   "execution_count": 8,
   "id": "binding-reader",
   "metadata": {},
   "outputs": [],
   "source": [
    "## 5-Layer CNN for CIFAR\n",
    "## This is the Myrtle5 network by David Page (https://myrtle.ai/learn/how-to-train-your-resnet-4-architecture/)\n",
    "\n",
    "class Flatten(nn.Module):\n",
    "    def forward(self, x): return x.view(x.size(0), x.size(1))\n",
    "\n",
    "def make_cnn(c=64, num_classes=10):\n",
    "    ''' Returns a 5-layer CNN with width parameter c. '''\n",
    "    return nn.Sequential(\n",
    "        # Layer 0\n",
    "        nn.Conv2d(3, c, kernel_size=3, stride=1,\n",
    "                  padding=1, bias=True),\n",
    "        nn.BatchNorm2d(c),\n",
    "        nn.ReLU(),\n",
    "\n",
    "        # Layer 1\n",
    "        nn.Conv2d(c, c*2, kernel_size=3,\n",
    "                  stride=1, padding=1, bias=True),\n",
    "        nn.BatchNorm2d(c*2),\n",
    "        nn.ReLU(),\n",
    "        nn.MaxPool2d(2),\n",
    "\n",
    "        # Layer 2\n",
    "        nn.Conv2d(c*2, c*4, kernel_size=3,\n",
    "                  stride=1, padding=1, bias=True),\n",
    "        nn.BatchNorm2d(c*4),\n",
    "        nn.ReLU(),\n",
    "        nn.MaxPool2d(2),\n",
    "\n",
    "        # Layer 3\n",
    "        nn.Conv2d(c*4, c*8, kernel_size=3,\n",
    "                  stride=1, padding=1, bias=True),\n",
    "        nn.BatchNorm2d(c*8),\n",
    "        nn.ReLU(),\n",
    "        nn.MaxPool2d(2),\n",
    "\n",
    "        # Layer 4\n",
    "        nn.MaxPool2d(4),\n",
    "        Flatten(),\n",
    "        nn.Linear(c*8, num_classes, bias=True)\n",
    "    )"
   ]
  },
  {
   "cell_type": "code",
   "execution_count": 9,
   "id": "invisible-potato",
   "metadata": {},
   "outputs": [],
   "source": [
    "## Train"
   ]
  },
  {
   "cell_type": "code",
   "execution_count": 14,
   "id": "driven-ceramic",
   "metadata": {},
   "outputs": [
    {
     "name": "stdout",
     "output_type": "stream",
     "text": [
      "Starting Epoch 0\n"
     ]
    },
    {
     "data": {
      "application/vnd.jupyter.widget-view+json": {
       "model_id": "6c5423c147b7474599146c7861c4419f",
       "version_major": 2,
       "version_minor": 0
      },
      "text/plain": [
       "HBox(children=(FloatProgress(value=0.0, max=391.0), HTML(value='')))"
      ]
     },
     "metadata": {},
     "output_type": "display_data"
    },
    {
     "name": "stdout",
     "output_type": "stream",
     "text": [
      "\t [Batch 50 / 391] Train Loss: 7.103 \t Train Acc: 0.140\n",
      "\t [Batch 100 / 391] Train Loss: 4.647 \t Train Acc: 0.176\n",
      "\t [Batch 150 / 391] Train Loss: 3.766 \t Train Acc: 0.205\n",
      "\t [Batch 200 / 391] Train Loss: 3.300 \t Train Acc: 0.228\n",
      "\t [Batch 250 / 391] Train Loss: 2.999 \t Train Acc: 0.249\n",
      "\t [Batch 300 / 391] Train Loss: 2.781 \t Train Acc: 0.271\n",
      "\t [Batch 350 / 391] Train Loss: 2.624 \t Train Acc: 0.288\n",
      "\n",
      "Epoch 0:\t Train Loss: 2.517 \t Train Acc: 0.303\t Test Acc: 0.383\n",
      "Starting Epoch 1\n"
     ]
    },
    {
     "data": {
      "application/vnd.jupyter.widget-view+json": {
       "model_id": "bccdcda365744b00a39798c5e2c728be",
       "version_major": 2,
       "version_minor": 0
      },
      "text/plain": [
       "HBox(children=(FloatProgress(value=0.0, max=391.0), HTML(value='')))"
      ]
     },
     "metadata": {},
     "output_type": "display_data"
    },
    {
     "name": "stdout",
     "output_type": "stream",
     "text": [
      "\t [Batch 50 / 391] Train Loss: 1.542 \t Train Acc: 0.427\n",
      "\t [Batch 100 / 391] Train Loss: 1.545 \t Train Acc: 0.435\n",
      "\t [Batch 150 / 391] Train Loss: 1.509 \t Train Acc: 0.448\n",
      "\t [Batch 200 / 391] Train Loss: 1.494 \t Train Acc: 0.453\n",
      "\t [Batch 250 / 391] Train Loss: 1.470 \t Train Acc: 0.461\n",
      "\t [Batch 300 / 391] Train Loss: 1.451 \t Train Acc: 0.470\n",
      "\t [Batch 350 / 391] Train Loss: 1.428 \t Train Acc: 0.480\n",
      "\n",
      "Epoch 1:\t Train Loss: 1.411 \t Train Acc: 0.486\t Test Acc: 0.424\n",
      "Starting Epoch 2\n"
     ]
    },
    {
     "data": {
      "application/vnd.jupyter.widget-view+json": {
       "model_id": "4c1f3d55a0794be1ba822b6ccdf52858",
       "version_major": 2,
       "version_minor": 0
      },
      "text/plain": [
       "HBox(children=(FloatProgress(value=0.0, max=391.0), HTML(value='')))"
      ]
     },
     "metadata": {},
     "output_type": "display_data"
    },
    {
     "name": "stdout",
     "output_type": "stream",
     "text": [
      "\t [Batch 50 / 391] Train Loss: 1.203 \t Train Acc: 0.565\n",
      "\t [Batch 100 / 391] Train Loss: 1.205 \t Train Acc: 0.568\n",
      "\t [Batch 150 / 391] Train Loss: 1.185 \t Train Acc: 0.580\n",
      "\t [Batch 200 / 391] Train Loss: 1.172 \t Train Acc: 0.584\n",
      "\t [Batch 250 / 391] Train Loss: 1.158 \t Train Acc: 0.588\n",
      "\t [Batch 300 / 391] Train Loss: 1.147 \t Train Acc: 0.592\n",
      "\t [Batch 350 / 391] Train Loss: 1.137 \t Train Acc: 0.595\n",
      "\n",
      "Epoch 2:\t Train Loss: 1.120 \t Train Acc: 0.602\t Test Acc: 0.554\n",
      "Starting Epoch 3\n"
     ]
    },
    {
     "data": {
      "application/vnd.jupyter.widget-view+json": {
       "model_id": "a23b9be3d4fd404e94fc09342233a66d",
       "version_major": 2,
       "version_minor": 0
      },
      "text/plain": [
       "HBox(children=(FloatProgress(value=0.0, max=391.0), HTML(value='')))"
      ]
     },
     "metadata": {},
     "output_type": "display_data"
    },
    {
     "name": "stdout",
     "output_type": "stream",
     "text": [
      "\t [Batch 50 / 391] Train Loss: 0.987 \t Train Acc: 0.656\n",
      "\t [Batch 100 / 391] Train Loss: 0.972 \t Train Acc: 0.658\n",
      "\t [Batch 150 / 391] Train Loss: 0.970 \t Train Acc: 0.659\n",
      "\t [Batch 200 / 391] Train Loss: 0.962 \t Train Acc: 0.663\n",
      "\t [Batch 250 / 391] Train Loss: 0.954 \t Train Acc: 0.666\n",
      "\t [Batch 300 / 391] Train Loss: 0.947 \t Train Acc: 0.669\n",
      "\t [Batch 350 / 391] Train Loss: 0.942 \t Train Acc: 0.670\n",
      "\n",
      "Epoch 3:\t Train Loss: 0.933 \t Train Acc: 0.674\t Test Acc: 0.644\n",
      "Starting Epoch 4\n"
     ]
    },
    {
     "data": {
      "application/vnd.jupyter.widget-view+json": {
       "model_id": "24d60619479142b2b47bf8c0ace02494",
       "version_major": 2,
       "version_minor": 0
      },
      "text/plain": [
       "HBox(children=(FloatProgress(value=0.0, max=391.0), HTML(value='')))"
      ]
     },
     "metadata": {},
     "output_type": "display_data"
    },
    {
     "name": "stdout",
     "output_type": "stream",
     "text": [
      "\t [Batch 50 / 391] Train Loss: 0.830 \t Train Acc: 0.710\n",
      "\t [Batch 100 / 391] Train Loss: 0.826 \t Train Acc: 0.714\n",
      "\t [Batch 150 / 391] Train Loss: 0.806 \t Train Acc: 0.719\n",
      "\t [Batch 200 / 391] Train Loss: 0.807 \t Train Acc: 0.718\n",
      "\t [Batch 250 / 391] Train Loss: 0.794 \t Train Acc: 0.722\n",
      "\t [Batch 300 / 391] Train Loss: 0.792 \t Train Acc: 0.724\n",
      "\t [Batch 350 / 391] Train Loss: 0.789 \t Train Acc: 0.725\n",
      "\n",
      "Epoch 4:\t Train Loss: 0.781 \t Train Acc: 0.728\t Test Acc: 0.605\n",
      "Starting Epoch 5\n"
     ]
    },
    {
     "data": {
      "application/vnd.jupyter.widget-view+json": {
       "model_id": "d5e88d65b602479d9eed1bf1190ff64d",
       "version_major": 2,
       "version_minor": 0
      },
      "text/plain": [
       "HBox(children=(FloatProgress(value=0.0, max=391.0), HTML(value='')))"
      ]
     },
     "metadata": {},
     "output_type": "display_data"
    },
    {
     "name": "stdout",
     "output_type": "stream",
     "text": [
      "\t [Batch 50 / 391] Train Loss: 0.717 \t Train Acc: 0.747\n",
      "\t [Batch 100 / 391] Train Loss: 0.703 \t Train Acc: 0.757\n",
      "\t [Batch 150 / 391] Train Loss: 0.690 \t Train Acc: 0.761\n",
      "\t [Batch 200 / 391] Train Loss: 0.688 \t Train Acc: 0.763\n",
      "\t [Batch 250 / 391] Train Loss: 0.690 \t Train Acc: 0.763\n",
      "\t [Batch 300 / 391] Train Loss: 0.685 \t Train Acc: 0.764\n",
      "\t [Batch 350 / 391] Train Loss: 0.685 \t Train Acc: 0.763\n",
      "\n",
      "Epoch 5:\t Train Loss: 0.682 \t Train Acc: 0.764\t Test Acc: 0.592\n",
      "Starting Epoch 6\n"
     ]
    },
    {
     "data": {
      "application/vnd.jupyter.widget-view+json": {
       "model_id": "ac8821f759fa47b8a4334e0f2c716acf",
       "version_major": 2,
       "version_minor": 0
      },
      "text/plain": [
       "HBox(children=(FloatProgress(value=0.0, max=391.0), HTML(value='')))"
      ]
     },
     "metadata": {},
     "output_type": "display_data"
    },
    {
     "name": "stdout",
     "output_type": "stream",
     "text": [
      "\t [Batch 50 / 391] Train Loss: 0.574 \t Train Acc: 0.803\n",
      "\t [Batch 100 / 391] Train Loss: 0.569 \t Train Acc: 0.802\n",
      "\t [Batch 150 / 391] Train Loss: 0.570 \t Train Acc: 0.804\n",
      "\t [Batch 200 / 391] Train Loss: 0.572 \t Train Acc: 0.802\n",
      "\t [Batch 250 / 391] Train Loss: 0.574 \t Train Acc: 0.801\n",
      "\t [Batch 300 / 391] Train Loss: 0.580 \t Train Acc: 0.800\n",
      "\t [Batch 350 / 391] Train Loss: 0.583 \t Train Acc: 0.799\n",
      "\n",
      "Epoch 6:\t Train Loss: 0.583 \t Train Acc: 0.798\t Test Acc: 0.573\n",
      "Starting Epoch 7\n"
     ]
    },
    {
     "data": {
      "application/vnd.jupyter.widget-view+json": {
       "model_id": "0343990f7bec4fe59c844b2fa3ab24b9",
       "version_major": 2,
       "version_minor": 0
      },
      "text/plain": [
       "HBox(children=(FloatProgress(value=0.0, max=391.0), HTML(value='')))"
      ]
     },
     "metadata": {},
     "output_type": "display_data"
    },
    {
     "name": "stdout",
     "output_type": "stream",
     "text": [
      "\t [Batch 50 / 391] Train Loss: 0.501 \t Train Acc: 0.832\n",
      "\t [Batch 100 / 391] Train Loss: 0.499 \t Train Acc: 0.832\n",
      "\t [Batch 150 / 391] Train Loss: 0.506 \t Train Acc: 0.830\n",
      "\t [Batch 200 / 391] Train Loss: 0.518 \t Train Acc: 0.825\n",
      "\t [Batch 250 / 391] Train Loss: 0.512 \t Train Acc: 0.827\n",
      "\t [Batch 300 / 391] Train Loss: 0.515 \t Train Acc: 0.825\n",
      "\t [Batch 350 / 391] Train Loss: 0.509 \t Train Acc: 0.827\n",
      "\n",
      "Epoch 7:\t Train Loss: 0.509 \t Train Acc: 0.826\t Test Acc: 0.614\n",
      "Starting Epoch 8\n"
     ]
    },
    {
     "data": {
      "application/vnd.jupyter.widget-view+json": {
       "model_id": "eac6c92124404f0dbe789e3cee54b32a",
       "version_major": 2,
       "version_minor": 0
      },
      "text/plain": [
       "HBox(children=(FloatProgress(value=0.0, max=391.0), HTML(value='')))"
      ]
     },
     "metadata": {},
     "output_type": "display_data"
    },
    {
     "name": "stdout",
     "output_type": "stream",
     "text": [
      "\t [Batch 50 / 391] Train Loss: 0.426 \t Train Acc: 0.851\n",
      "\t [Batch 100 / 391] Train Loss: 0.420 \t Train Acc: 0.854\n",
      "\t [Batch 150 / 391] Train Loss: 0.426 \t Train Acc: 0.853\n",
      "\t [Batch 200 / 391] Train Loss: 0.422 \t Train Acc: 0.855\n",
      "\t [Batch 250 / 391] Train Loss: 0.424 \t Train Acc: 0.854\n",
      "\t [Batch 300 / 391] Train Loss: 0.427 \t Train Acc: 0.854\n",
      "\t [Batch 350 / 391] Train Loss: 0.433 \t Train Acc: 0.851\n",
      "\n",
      "Epoch 8:\t Train Loss: 0.429 \t Train Acc: 0.853\t Test Acc: 0.742\n",
      "Starting Epoch 9\n"
     ]
    },
    {
     "data": {
      "application/vnd.jupyter.widget-view+json": {
       "model_id": "beb30bd540a54d5a8dbd674f0eb385bb",
       "version_major": 2,
       "version_minor": 0
      },
      "text/plain": [
       "HBox(children=(FloatProgress(value=0.0, max=391.0), HTML(value='')))"
      ]
     },
     "metadata": {},
     "output_type": "display_data"
    },
    {
     "name": "stdout",
     "output_type": "stream",
     "text": [
      "\t [Batch 50 / 391] Train Loss: 0.391 \t Train Acc: 0.865\n",
      "\t [Batch 100 / 391] Train Loss: 0.373 \t Train Acc: 0.871\n",
      "\t [Batch 150 / 391] Train Loss: 0.381 \t Train Acc: 0.868\n",
      "\t [Batch 200 / 391] Train Loss: 0.379 \t Train Acc: 0.869\n",
      "\t [Batch 250 / 391] Train Loss: 0.379 \t Train Acc: 0.870\n",
      "\t [Batch 300 / 391] Train Loss: 0.379 \t Train Acc: 0.871\n",
      "\t [Batch 350 / 391] Train Loss: 0.382 \t Train Acc: 0.870\n",
      "\n",
      "Epoch 9:\t Train Loss: 0.377 \t Train Acc: 0.872\t Test Acc: 0.775\n",
      "Starting Epoch 10\n"
     ]
    },
    {
     "data": {
      "application/vnd.jupyter.widget-view+json": {
       "model_id": "cbcadd9e27414774b0a2d3375fe3cd4b",
       "version_major": 2,
       "version_minor": 0
      },
      "text/plain": [
       "HBox(children=(FloatProgress(value=0.0, max=391.0), HTML(value='')))"
      ]
     },
     "metadata": {},
     "output_type": "display_data"
    },
    {
     "name": "stdout",
     "output_type": "stream",
     "text": [
      "\t [Batch 50 / 391] Train Loss: 0.287 \t Train Acc: 0.906\n",
      "\t [Batch 100 / 391] Train Loss: 0.300 \t Train Acc: 0.900\n",
      "\t [Batch 150 / 391] Train Loss: 0.297 \t Train Acc: 0.899\n",
      "\t [Batch 200 / 391] Train Loss: 0.297 \t Train Acc: 0.899\n",
      "\t [Batch 250 / 391] Train Loss: 0.293 \t Train Acc: 0.900\n",
      "\t [Batch 300 / 391] Train Loss: 0.294 \t Train Acc: 0.901\n",
      "\t [Batch 350 / 391] Train Loss: 0.298 \t Train Acc: 0.900\n",
      "\n",
      "Epoch 10:\t Train Loss: 0.298 \t Train Acc: 0.900\t Test Acc: 0.688\n",
      "Starting Epoch 11\n"
     ]
    },
    {
     "data": {
      "application/vnd.jupyter.widget-view+json": {
       "model_id": "0725d499b80a427994105bf71d0fc8cb",
       "version_major": 2,
       "version_minor": 0
      },
      "text/plain": [
       "HBox(children=(FloatProgress(value=0.0, max=391.0), HTML(value='')))"
      ]
     },
     "metadata": {},
     "output_type": "display_data"
    },
    {
     "name": "stdout",
     "output_type": "stream",
     "text": [
      "\t [Batch 50 / 391] Train Loss: 0.226 \t Train Acc: 0.934\n",
      "\t [Batch 100 / 391] Train Loss: 0.220 \t Train Acc: 0.932\n",
      "\t [Batch 150 / 391] Train Loss: 0.221 \t Train Acc: 0.931\n",
      "\t [Batch 200 / 391] Train Loss: 0.227 \t Train Acc: 0.929\n",
      "\t [Batch 250 / 391] Train Loss: 0.232 \t Train Acc: 0.927\n",
      "\t [Batch 300 / 391] Train Loss: 0.237 \t Train Acc: 0.925\n",
      "\t [Batch 350 / 391] Train Loss: 0.235 \t Train Acc: 0.925\n",
      "\n",
      "Epoch 11:\t Train Loss: 0.241 \t Train Acc: 0.923\t Test Acc: 0.757\n",
      "Starting Epoch 12\n"
     ]
    },
    {
     "data": {
      "application/vnd.jupyter.widget-view+json": {
       "model_id": "bca750e577fa43f9a1bbbc0f846af05b",
       "version_major": 2,
       "version_minor": 0
      },
      "text/plain": [
       "HBox(children=(FloatProgress(value=0.0, max=391.0), HTML(value='')))"
      ]
     },
     "metadata": {},
     "output_type": "display_data"
    },
    {
     "name": "stdout",
     "output_type": "stream",
     "text": [
      "\t [Batch 50 / 391] Train Loss: 0.114 \t Train Acc: 0.964\n",
      "\t [Batch 100 / 391] Train Loss: 0.157 \t Train Acc: 0.955\n",
      "\t [Batch 150 / 391] Train Loss: 0.183 \t Train Acc: 0.949\n",
      "\t [Batch 200 / 391] Train Loss: 0.180 \t Train Acc: 0.947\n",
      "\t [Batch 250 / 391] Train Loss: 0.197 \t Train Acc: 0.942\n",
      "\t [Batch 300 / 391] Train Loss: 0.199 \t Train Acc: 0.940\n",
      "\t [Batch 350 / 391] Train Loss: 0.195 \t Train Acc: 0.940\n",
      "\n",
      "Epoch 12:\t Train Loss: 0.196 \t Train Acc: 0.939\t Test Acc: 0.530\n",
      "Starting Epoch 13\n"
     ]
    },
    {
     "data": {
      "application/vnd.jupyter.widget-view+json": {
       "model_id": "b4a926ab0ddf47e098cdb3a3ec0f85b3",
       "version_major": 2,
       "version_minor": 0
      },
      "text/plain": [
       "HBox(children=(FloatProgress(value=0.0, max=391.0), HTML(value='')))"
      ]
     },
     "metadata": {},
     "output_type": "display_data"
    },
    {
     "name": "stdout",
     "output_type": "stream",
     "text": [
      "\t [Batch 50 / 391] Train Loss: 0.203 \t Train Acc: 0.956\n",
      "\t [Batch 100 / 391] Train Loss: 0.141 \t Train Acc: 0.967\n",
      "\t [Batch 150 / 391] Train Loss: 0.123 \t Train Acc: 0.969\n",
      "\t [Batch 200 / 391] Train Loss: 0.129 \t Train Acc: 0.965\n",
      "\t [Batch 250 / 391] Train Loss: 0.132 \t Train Acc: 0.963\n",
      "\t [Batch 300 / 391] Train Loss: 0.132 \t Train Acc: 0.961\n",
      "\t [Batch 350 / 391] Train Loss: 0.130 \t Train Acc: 0.962\n",
      "\n",
      "Epoch 13:\t Train Loss: 0.157 \t Train Acc: 0.956\t Test Acc: 0.792\n",
      "Starting Epoch 14\n"
     ]
    },
    {
     "data": {
      "application/vnd.jupyter.widget-view+json": {
       "model_id": "5b440e05253543adbe66bc8f99cc4c09",
       "version_major": 2,
       "version_minor": 0
      },
      "text/plain": [
       "HBox(children=(FloatProgress(value=0.0, max=391.0), HTML(value='')))"
      ]
     },
     "metadata": {},
     "output_type": "display_data"
    },
    {
     "name": "stdout",
     "output_type": "stream",
     "text": [
      "\t [Batch 50 / 391] Train Loss: 0.067 \t Train Acc: 0.981\n",
      "\t [Batch 100 / 391] Train Loss: 0.059 \t Train Acc: 0.984\n",
      "\t [Batch 150 / 391] Train Loss: 0.071 \t Train Acc: 0.981\n",
      "\t [Batch 200 / 391] Train Loss: 0.064 \t Train Acc: 0.983\n",
      "\t [Batch 250 / 391] Train Loss: 0.063 \t Train Acc: 0.983\n",
      "\t [Batch 300 / 391] Train Loss: 0.059 \t Train Acc: 0.985\n",
      "\t [Batch 350 / 391] Train Loss: 0.065 \t Train Acc: 0.984\n",
      "\n",
      "Epoch 14:\t Train Loss: 0.065 \t Train Acc: 0.983\t Test Acc: 0.764\n",
      "Starting Epoch 15\n"
     ]
    },
    {
     "data": {
      "application/vnd.jupyter.widget-view+json": {
       "model_id": "245224b0ae3540459f8251b5d7be6e31",
       "version_major": 2,
       "version_minor": 0
      },
      "text/plain": [
       "HBox(children=(FloatProgress(value=0.0, max=391.0), HTML(value='')))"
      ]
     },
     "metadata": {},
     "output_type": "display_data"
    },
    {
     "name": "stdout",
     "output_type": "stream",
     "text": [
      "\t [Batch 50 / 391] Train Loss: 0.022 \t Train Acc: 0.997\n",
      "\t [Batch 100 / 391] Train Loss: 0.019 \t Train Acc: 0.998\n",
      "\t [Batch 150 / 391] Train Loss: 0.018 \t Train Acc: 0.998\n",
      "\t [Batch 200 / 391] Train Loss: 0.017 \t Train Acc: 0.998\n",
      "\t [Batch 250 / 391] Train Loss: 0.017 \t Train Acc: 0.998\n",
      "\t [Batch 300 / 391] Train Loss: 0.017 \t Train Acc: 0.998\n",
      "\t [Batch 350 / 391] Train Loss: 0.016 \t Train Acc: 0.998\n",
      "\n",
      "Epoch 15:\t Train Loss: 0.016 \t Train Acc: 0.998\t Test Acc: 0.850\n",
      "Starting Epoch 16\n"
     ]
    },
    {
     "data": {
      "application/vnd.jupyter.widget-view+json": {
       "model_id": "ededbe268e9e42489c4058f4f3a707a2",
       "version_major": 2,
       "version_minor": 0
      },
      "text/plain": [
       "HBox(children=(FloatProgress(value=0.0, max=391.0), HTML(value='')))"
      ]
     },
     "metadata": {},
     "output_type": "display_data"
    },
    {
     "name": "stdout",
     "output_type": "stream",
     "text": [
      "\t [Batch 50 / 391] Train Loss: 0.007 \t Train Acc: 1.000\n",
      "\t [Batch 100 / 391] Train Loss: 0.006 \t Train Acc: 1.000\n",
      "\t [Batch 150 / 391] Train Loss: 0.006 \t Train Acc: 1.000\n",
      "\t [Batch 200 / 391] Train Loss: 0.007 \t Train Acc: 1.000\n",
      "\t [Batch 250 / 391] Train Loss: 0.006 \t Train Acc: 1.000\n",
      "\t [Batch 300 / 391] Train Loss: 0.006 \t Train Acc: 1.000\n",
      "\t [Batch 350 / 391] Train Loss: 0.006 \t Train Acc: 1.000\n",
      "\n",
      "Epoch 16:\t Train Loss: 0.006 \t Train Acc: 1.000\t Test Acc: 0.855\n",
      "Starting Epoch 17\n"
     ]
    },
    {
     "data": {
      "application/vnd.jupyter.widget-view+json": {
       "model_id": "a42aee5b5742455dae94203c3ddfe074",
       "version_major": 2,
       "version_minor": 0
      },
      "text/plain": [
       "HBox(children=(FloatProgress(value=0.0, max=391.0), HTML(value='')))"
      ]
     },
     "metadata": {},
     "output_type": "display_data"
    },
    {
     "name": "stdout",
     "output_type": "stream",
     "text": [
      "\t [Batch 50 / 391] Train Loss: 0.004 \t Train Acc: 1.000\n",
      "\t [Batch 100 / 391] Train Loss: 0.004 \t Train Acc: 1.000\n",
      "\t [Batch 150 / 391] Train Loss: 0.004 \t Train Acc: 1.000\n",
      "\t [Batch 200 / 391] Train Loss: 0.004 \t Train Acc: 1.000\n",
      "\t [Batch 250 / 391] Train Loss: 0.004 \t Train Acc: 1.000\n",
      "\t [Batch 300 / 391] Train Loss: 0.004 \t Train Acc: 1.000\n",
      "\t [Batch 350 / 391] Train Loss: 0.004 \t Train Acc: 1.000\n",
      "\n",
      "Epoch 17:\t Train Loss: 0.004 \t Train Acc: 1.000\t Test Acc: 0.858\n",
      "Starting Epoch 18\n"
     ]
    },
    {
     "data": {
      "application/vnd.jupyter.widget-view+json": {
       "model_id": "6c8e13b79746453889ecaf97e9e3aa2a",
       "version_major": 2,
       "version_minor": 0
      },
      "text/plain": [
       "HBox(children=(FloatProgress(value=0.0, max=391.0), HTML(value='')))"
      ]
     },
     "metadata": {},
     "output_type": "display_data"
    },
    {
     "name": "stdout",
     "output_type": "stream",
     "text": [
      "\t [Batch 50 / 391] Train Loss: 0.003 \t Train Acc: 1.000\n",
      "\t [Batch 100 / 391] Train Loss: 0.003 \t Train Acc: 1.000\n",
      "\t [Batch 150 / 391] Train Loss: 0.003 \t Train Acc: 1.000\n",
      "\t [Batch 200 / 391] Train Loss: 0.003 \t Train Acc: 1.000\n",
      "\t [Batch 250 / 391] Train Loss: 0.003 \t Train Acc: 1.000\n",
      "\t [Batch 300 / 391] Train Loss: 0.003 \t Train Acc: 1.000\n",
      "\t [Batch 350 / 391] Train Loss: 0.003 \t Train Acc: 1.000\n",
      "\n",
      "Epoch 18:\t Train Loss: 0.003 \t Train Acc: 1.000\t Test Acc: 0.858\n",
      "Starting Epoch 19\n"
     ]
    },
    {
     "data": {
      "application/vnd.jupyter.widget-view+json": {
       "model_id": "f7c4a236afc94d62af179f9a2b3c6192",
       "version_major": 2,
       "version_minor": 0
      },
      "text/plain": [
       "HBox(children=(FloatProgress(value=0.0, max=391.0), HTML(value='')))"
      ]
     },
     "metadata": {},
     "output_type": "display_data"
    },
    {
     "name": "stdout",
     "output_type": "stream",
     "text": [
      "\t [Batch 50 / 391] Train Loss: 0.002 \t Train Acc: 1.000\n",
      "\t [Batch 100 / 391] Train Loss: 0.002 \t Train Acc: 1.000\n",
      "\t [Batch 150 / 391] Train Loss: 0.002 \t Train Acc: 1.000\n",
      "\t [Batch 200 / 391] Train Loss: 0.002 \t Train Acc: 1.000\n",
      "\t [Batch 250 / 391] Train Loss: 0.002 \t Train Acc: 1.000\n",
      "\t [Batch 300 / 391] Train Loss: 0.002 \t Train Acc: 1.000\n",
      "\t [Batch 350 / 391] Train Loss: 0.002 \t Train Acc: 1.000\n",
      "\n",
      "Epoch 19:\t Train Loss: 0.002 \t Train Acc: 1.000\t Test Acc: 0.857\n"
     ]
    }
   ],
   "source": [
    "model = make_cnn()\n",
    "opt = torch.optim.SGD(model.parameters(), lr=0.1)\n",
    "epochs = 20\n",
    "for i in range(epochs):\n",
    "    print(f'Starting Epoch {i}')\n",
    "    train_loss, train_acc = train_epoch(model, train_dl, opt)\n",
    "    test_loss, test_acc = evaluate(model, test_dl)\n",
    "    \n",
    "    print(f'Epoch {i}:\\t Train Loss: {train_loss:.3f} \\t Train Acc: {train_acc:.3f}\\t Test Acc: {test_acc:.3f}')"
   ]
  },
  {
   "cell_type": "code",
   "execution_count": null,
   "id": "sorted-amplifier",
   "metadata": {},
   "outputs": [],
   "source": []
  }
 ],
 "metadata": {
  "kernelspec": {
   "display_name": "penv",
   "language": "python",
   "name": "penv"
  },
  "language_info": {
   "codemirror_mode": {
    "name": "ipython",
    "version": 3
   },
   "file_extension": ".py",
   "mimetype": "text/x-python",
   "name": "python",
   "nbconvert_exporter": "python",
   "pygments_lexer": "ipython3",
   "version": "3.6.10"
  }
 },
 "nbformat": 4,
 "nbformat_minor": 5
}
