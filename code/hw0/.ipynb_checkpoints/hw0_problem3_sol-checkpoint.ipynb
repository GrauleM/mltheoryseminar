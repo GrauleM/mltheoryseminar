{
 "cells": [
  {
   "cell_type": "code",
   "execution_count": 1,
   "id": "frequent-costs",
   "metadata": {},
   "outputs": [],
   "source": [
    "import torch\n",
    "import torch.nn as nn\n",
    "import numpy as np\n",
    "from torch.utils.data import DataLoader, Dataset, TensorDataset\n",
    "import torchvision.datasets as ds\n",
    "import pylab as plt"
   ]
  },
  {
   "cell_type": "code",
   "execution_count": 2,
   "id": "olive-professional",
   "metadata": {},
   "outputs": [
    {
     "name": "stdout",
     "output_type": "stream",
     "text": [
      "Downloading http://yann.lecun.com/exdb/mnist/train-images-idx3-ubyte.gz to ./data_cache/MNIST/raw/train-images-idx3-ubyte.gz\n"
     ]
    },
    {
     "data": {
      "application/vnd.jupyter.widget-view+json": {
       "model_id": "6ee3466aee4f4982b2c82caba02cc367",
       "version_major": 2,
       "version_minor": 0
      },
      "text/plain": [
       "0it [00:00, ?it/s]"
      ]
     },
     "metadata": {},
     "output_type": "display_data"
    },
    {
     "name": "stdout",
     "output_type": "stream",
     "text": [
      "Extracting ./data_cache/MNIST/raw/train-images-idx3-ubyte.gz to ./data_cache/MNIST/raw\n",
      "Downloading http://yann.lecun.com/exdb/mnist/train-labels-idx1-ubyte.gz to ./data_cache/MNIST/raw/train-labels-idx1-ubyte.gz\n"
     ]
    },
    {
     "data": {
      "application/vnd.jupyter.widget-view+json": {
       "model_id": "c983ef522e5343eeb4c0f557609649b7",
       "version_major": 2,
       "version_minor": 0
      },
      "text/plain": [
       "0it [00:00, ?it/s]"
      ]
     },
     "metadata": {},
     "output_type": "display_data"
    },
    {
     "name": "stdout",
     "output_type": "stream",
     "text": [
      "Extracting ./data_cache/MNIST/raw/train-labels-idx1-ubyte.gz to ./data_cache/MNIST/raw\n",
      "Downloading http://yann.lecun.com/exdb/mnist/t10k-images-idx3-ubyte.gz to ./data_cache/MNIST/raw/t10k-images-idx3-ubyte.gz\n"
     ]
    },
    {
     "data": {
      "application/vnd.jupyter.widget-view+json": {
       "model_id": "fc57f527175246bd8f459229e8416de3",
       "version_major": 2,
       "version_minor": 0
      },
      "text/plain": [
       "0it [00:00, ?it/s]"
      ]
     },
     "metadata": {},
     "output_type": "display_data"
    },
    {
     "name": "stdout",
     "output_type": "stream",
     "text": [
      "Extracting ./data_cache/MNIST/raw/t10k-images-idx3-ubyte.gz to ./data_cache/MNIST/raw\n",
      "Downloading http://yann.lecun.com/exdb/mnist/t10k-labels-idx1-ubyte.gz to ./data_cache/MNIST/raw/t10k-labels-idx1-ubyte.gz\n"
     ]
    },
    {
     "data": {
      "application/vnd.jupyter.widget-view+json": {
       "model_id": "9466403bb2f24ac3ac5111809561ab50",
       "version_major": 2,
       "version_minor": 0
      },
      "text/plain": [
       "0it [00:00, ?it/s]"
      ]
     },
     "metadata": {},
     "output_type": "display_data"
    },
    {
     "name": "stdout",
     "output_type": "stream",
     "text": [
      "Extracting ./data_cache/MNIST/raw/t10k-labels-idx1-ubyte.gz to ./data_cache/MNIST/raw\n",
      "Processing...\n",
      "Done!\n"
     ]
    },
    {
     "name": "stderr",
     "output_type": "stream",
     "text": [
      "/home/moritz/venvs/mltheory/lib/python3.6/site-packages/torchvision/datasets/mnist.py:480: UserWarning: The given NumPy array is not writeable, and PyTorch does not support non-writeable tensors. This means you can write to the underlying (supposedly non-writeable) NumPy array using the tensor. You may want to copy the array to protect its data or make it writeable before converting it to a tensor. This type of warning will be suppressed for the rest of this program. (Triggered internally at  /pytorch/torch/csrc/utils/tensor_numpy.cpp:141.)\n",
      "  return torch.from_numpy(parsed.astype(m[2], copy=False)).view(*s)\n"
     ]
    }
   ],
   "source": [
    "def load_mnist(datadir='./data_cache'):\n",
    "    train_ds = ds.MNIST(root=datadir, train=True,\n",
    "                           download=True, transform=None)\n",
    "    test_ds = ds.MNIST(root=datadir, train=False,\n",
    "                          download=True, transform=None)\n",
    "\n",
    "    def to_xy(dataset):\n",
    "        X = np.array(dataset.data) / 255.0  # [0, 1]\n",
    "        Y = np.array(dataset.targets)\n",
    "        return X, Y\n",
    "\n",
    "    X_tr, Y_tr = to_xy(train_ds)\n",
    "    X_te, Y_te = to_xy(test_ds)\n",
    "    return X_tr, Y_tr, X_te, Y_te\n",
    "\n",
    "X_tr, Y_tr, X_te, Y_te = load_mnist()"
   ]
  },
  {
   "cell_type": "code",
   "execution_count": 3,
   "id": "entire-geneva",
   "metadata": {},
   "outputs": [
    {
     "data": {
      "image/png": "[encoded data removed]",
      "text/plain": [
       "<Figure size 432x288 with 1 Axes>"
      ]
     },
     "metadata": {
      "needs_background": "light"
     },
     "output_type": "display_data"
    }
   ],
   "source": [
    "i = np.random.choice(len(X_tr))\n",
    "plt.imshow(X_tr[i], cmap='gray');\n",
    "plt.title(f'digit: {Y_tr[i]}');"
   ]
  },
  {
   "cell_type": "markdown",
   "id": "fifth-garage",
   "metadata": {},
   "source": [
    "## Linear Regression"
   ]
  },
  {
   "cell_type": "code",
   "execution_count": 4,
   "id": "blond-recording",
   "metadata": {},
   "outputs": [
    {
     "name": "stdout",
     "output_type": "stream",
     "text": [
      "original X_tr: (60000, 28, 28)\n",
      "reshaped X: (500, 784)\n",
      "reshaped Y: (500,)\n"
     ]
    }
   ],
   "source": [
    "print('original X_tr:', X_tr.shape)\n",
    "\n",
    "# select 500 random examples\n",
    "n = 500\n",
    "I = np.random.choice(len(X_tr), n, replace=False)\n",
    "X = X_tr[I]\n",
    "Y = (Y_tr[I] % 2) * 2.0 - 1 # odd/even --> +1/-1\n",
    "X = X.reshape(-1,  28*28) # flatten\n",
    "\n",
    "print('reshaped X:', X.shape)\n",
    "print('reshaped Y:', Y.shape)"
   ]
  },
  {
   "cell_type": "markdown",
   "id": "intended-marble",
   "metadata": {},
   "source": [
    "Now solve:\n",
    "$$\\text{argmin}_\\beta ||X \\beta - Y||_2$$\n",
    "for $\\beta \\in \\mathbb{R}^{784}$"
   ]
  },
  {
   "cell_type": "markdown",
   "id": "racial-wallet",
   "metadata": {},
   "source": [
    "### 0."
   ]
  },
  {
   "cell_type": "code",
   "execution_count": 6,
   "id": "unlike-factor",
   "metadata": {},
   "outputs": [
    {
     "name": "stdout",
     "output_type": "stream",
     "text": [
      "rank: 500\n"
     ]
    }
   ],
   "source": [
    "rank = np.linalg.matrix_rank(X)\n",
    "print(f\"rank: {rank}\")"
   ]
  },
  {
   "cell_type": "markdown",
   "id": "right-winning",
   "metadata": {},
   "source": [
    "### 1."
   ]
  },
  {
   "cell_type": "code",
   "execution_count": 18,
   "id": "specific-toronto",
   "metadata": {},
   "outputs": [
    {
     "name": "stdout",
     "output_type": "stream",
     "text": [
      "3.326192810338168e-28\n",
      "39.50057070789357\n"
     ]
    }
   ],
   "source": [
    "X_pinv = np.linalg.pinv(X)\n",
    "beta_sol = np.matmul(X_pinv,Y)\n",
    "\n",
    "# double check:\n",
    "train_error = np.linalg.norm(np.matmul(X,beta_sol)-Y)**2/Y.shape[0]\n",
    "print(train_error)\n",
    "\n",
    "# get the 'test error'\n",
    "test_error = np.linalg.norm(np.matmul(X_te.reshape(-1,  28*28),beta_sol)-Y_te)**2/Y_te.shape[0]\n",
    "print(test_error)"
   ]
  },
  {
   "cell_type": "markdown",
   "id": "ethical-depth",
   "metadata": {},
   "source": [
    "Using the Moore-Penrose pseudo-inverse of X, we did find the least-squares solution to the equation $X \\beta=Y$ as confirmed by the low 'train error'. This however does not generalize well (as expected, as it was unlikely that a linear model could capture this problem)."
   ]
  },
  {
   "cell_type": "markdown",
   "id": "married-harris",
   "metadata": {},
   "source": [
    "### 2."
   ]
  },
  {
   "cell_type": "markdown",
   "id": "documented-millennium",
   "metadata": {},
   "source": [
    "$\\frac{\\partial L}{\\partial \\beta} = (X^TX)\\beta-X^TY$"
   ]
  },
  {
   "cell_type": "markdown",
   "id": "proper-tulsa",
   "metadata": {},
   "source": []
  },
  {
   "cell_type": "markdown",
   "id": "cooked-colleague",
   "metadata": {},
   "source": []
  },
  {
   "cell_type": "markdown",
   "id": "dutch-radiation",
   "metadata": {},
   "source": [
    "### 3."
   ]
  }
 ],
 "metadata": {
  "kernelspec": {
   "display_name": "Python 3",
   "language": "python",
   "name": "python3"
  },
  "language_info": {
   "codemirror_mode": {
    "name": "ipython",
    "version": 3
   },
   "file_extension": ".py",
   "mimetype": "text/x-python",
   "name": "python",
   "nbconvert_exporter": "python",
   "pygments_lexer": "ipython3",
   "version": "3.6.9"
  }
 },
 "nbformat": 4,
 "nbformat_minor": 5
}
